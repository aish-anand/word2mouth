{
 "cells": [
  {
   "cell_type": "code",
   "execution_count": 6,
   "metadata": {
    "collapsed": true
   },
   "outputs": [],
   "source": [
    "import pandas as pd\n",
    "import re\n",
    "import contractions\n",
    "import unidecode\n",
    "\n",
    "#load all datasets\n",
    "business_df = pd.read_csv(filepath_or_buffer=\"D:\\\\UMass\\\\Fall 18\\\\COMPSCI 585 NLP\\\\Project\\\\word2mouth\\\\business.csv\")\n",
    "menu_df = pd.read_csv(filepath_or_buffer=\"D:\\\\UMass\\\\Fall 18\\\\COMPSCI 585 NLP\\\\Project\\\\word2mouth\\\\menus.csv\")\n",
    "reviews_df = pd.read_csv(filepath_or_buffer=\"D:\\\\UMass\\\\Fall 18\\\\COMPSCI 585 NLP\\\\Project\\\\word2mouth\\\\reviews.csv\")"
   ]
  },
  {
   "cell_type": "code",
   "execution_count": 42,
   "metadata": {
    "collapsed": true
   },
   "outputs": [],
   "source": [
    "#fix stars for each review\n",
    "reviews_df['stars'] = reviews_df['stars'].apply(lambda x: x[0:3])\n",
    "reviews_df['stars'] = pd.to_numeric(reviews_df['stars'])\n",
    "reviews_df['text'] = reviews_df['text'].apply(lambda x : x.lower())\n",
    "reviews_df['text'] = reviews_df['text'].apply(lambda x : unidecode.unidecode(x))\n",
    "reviews_df['text'] = reviews_df['text'].apply(lambda x : re.sub('[0-9\":-\\\\\\/\\$()]', ' ', x))\n",
    "reviews_df['text'] = reviews_df['text'].apply(lambda x : re.sub('[\\n]',' ', x))\n",
    "reviews_df['text'] = reviews_df['text'].apply(lambda x : re.sub('[-]*', '', x))\n",
    "reviews_df['text'] = reviews_df['text'].apply(lambda x : re.sub('[.]+','.', x))\n",
    "reviews_df['text'] = reviews_df['text'].apply(lambda x : re.sub('\\*', ' ',x))\n",
    "reviews_df['text'] = reviews_df['text'].apply(lambda x : re.sub('[ ]+', ' ',x))\n",
    "reviews_df['text'] = reviews_df['text'].apply(lambda x : contractions.fix(x));\n",
    "\n",
    "\n",
    "# #convert 25 reviews from san tung to txt files for annotation\n",
    "\n",
    "\n",
    "# for index, row in san_tung_reviews.iterrows():\n",
    "#     with open(\"D:\\\\UMass\\\\Fall 18\\\\COMPSCI 585 NLP\\\\Project\\\\annotation\\\\\"+str(index)+\".txt\", \"w\") as text_file:\n",
    "#         text_file.write(row['text'])"
   ]
  },
  {
   "cell_type": "code",
   "execution_count": 46,
   "metadata": {
    "collapsed": true
   },
   "outputs": [],
   "source": [
    "san_tung_reviews = reviews_df[reviews_df['business_id'] == 1117].head(26)\n",
    "san_tung_reviews.to_csv(\"annotated reviews.csv\")"
   ]
  },
  {
   "cell_type": "code",
   "execution_count": 190,
   "metadata": {
    "collapsed": true
   },
   "outputs": [],
   "source": [
    "import csv\n",
    "sentences = \"\"\n",
    "for index, row in san_tung_reviews.iterrows():\n",
    "    sentences = sentences + row['text']\n",
    "list_sentences = sentences.split(\".\")\n",
    "# print(list_sentences)\n",
    "sentiment_train = open(\"sentiment_train.csv\",'w')\n",
    "# Create Writer Object\n",
    "wr = csv.writer(sentiment_train, dialect='excel')\n",
    "    \n",
    "for item in list_sentences:\n",
    "    item = item.strip()\n",
    "    sentiment_train.write(item+ \"\\n\")\n"
   ]
  },
  {
   "cell_type": "code",
   "execution_count": 27,
   "metadata": {
    "scrolled": true
   },
   "outputs": [
    {
     "name": "stdout",
     "output_type": "stream",
     "text": [
      "(332, 3) (1243, 7)\n",
      "(319, 3) (1181, 7)\n"
     ]
    }
   ],
   "source": [
    "chicago_menus_df = pd.read_csv(filepath_or_buffer=\"D:\\\\UMass\\\\Fall 18\\\\COMPSCI 585 NLP\\\\Project\\\\menus.csv\")\n",
    "chicago_reviews_df= pd.read_csv(filepath_or_buffer=\"D:\\\\UMass\\\\Fall 18\\\\COMPSCI 585 NLP\\\\Project\\\\cleaned_review.csv\")\n",
    "\n",
    "#before dropping duplicates\n",
    "print(chicago_menus_df.shape, chicago_reviews_df.shape)\n",
    "#drop duplicates\n",
    "chicago_menus_df.drop_duplicates(inplace=True)\n",
    "chicago_reviews_df.drop_duplicates(inplace=True)\n",
    "#after dropping duplicates\n",
    "print(chicago_menus_df.shape, chicago_reviews_df.shape)"
   ]
  },
  {
   "cell_type": "code",
   "execution_count": 28,
   "metadata": {},
   "outputs": [
    {
     "name": "stdout",
     "output_type": "stream",
     "text": [
      "(277, 3) (489, 6)\n",
      "(275, 3) (469, 6)\n"
     ]
    }
   ],
   "source": [
    "#same for others\n",
    "#before dropping duplicates\n",
    "print(menu_df.shape, reviews_df.shape)\n",
    "#drop duplicates\n",
    "menu_df.drop_duplicates(inplace=True)\n",
    "reviews_df.drop_duplicates(inplace=True)\n",
    "#after dropping duplicates\n",
    "print(menu_df.shape, reviews_df.shape)"
   ]
  },
  {
   "cell_type": "code",
   "execution_count": 36,
   "metadata": {},
   "outputs": [],
   "source": [
    "#normalize menus - lowercase, remove accents and special chars\n",
    "new_menu_df = menu_df.append(chicago_menus_df)\n",
    "new_menu_df['menu_items'] = new_menu_df['menu_items'].apply(lambda x: x.lower())\n",
    "new_menu_df['menu_items'] = new_menu_df['menu_items'].apply(lambda x: re.sub('[0-9\":-\\\\\\/\\$()\\*]',' ',x))\n",
    "new_menu_df['menu_items'] = new_menu_df['menu_items'].apply(lambda x: re.sub(' +',' ',x))\n",
    "new_menu_df['menu_items'] = new_menu_df['menu_items'].apply(lambda x: unidecode.unidecode(x))\n",
    "\n",
    "#write combined file, remember to set index to false!\n",
    "new_menu_df.to_csv(\"all_menus.csv\", index = False)"
   ]
  },
  {
   "cell_type": "code",
   "execution_count": 43,
   "metadata": {},
   "outputs": [
    {
     "data": {
      "text/html": [
       "<div>\n",
       "<style>\n",
       "    .dataframe thead tr:only-child th {\n",
       "        text-align: right;\n",
       "    }\n",
       "\n",
       "    .dataframe thead th {\n",
       "        text-align: left;\n",
       "    }\n",
       "\n",
       "    .dataframe tbody tr th {\n",
       "        vertical-align: top;\n",
       "    }\n",
       "</style>\n",
       "<table border=\"1\" class=\"dataframe\">\n",
       "  <thead>\n",
       "    <tr style=\"text-align: right;\">\n",
       "      <th></th>\n",
       "      <th>review_id</th>\n",
       "      <th>user_name</th>\n",
       "      <th>business_id</th>\n",
       "      <th>stars</th>\n",
       "      <th>date</th>\n",
       "      <th>text</th>\n",
       "    </tr>\n",
       "  </thead>\n",
       "  <tbody>\n",
       "    <tr>\n",
       "      <th>0</th>\n",
       "      <td>NaN</td>\n",
       "      <td>Alex K.</td>\n",
       "      <td>1118</td>\n",
       "      <td>3.0</td>\n",
       "      <td>10/30/2018</td>\n",
       "      <td>this dosa location has a very romantic, upscal...</td>\n",
       "    </tr>\n",
       "    <tr>\n",
       "      <th>1</th>\n",
       "      <td>NaN</td>\n",
       "      <td>Alison W.</td>\n",
       "      <td>1118</td>\n",
       "      <td>4.0</td>\n",
       "      <td>10/11/2018</td>\n",
       "      <td>i would never had south indian cuisine or dosa...</td>\n",
       "    </tr>\n",
       "    <tr>\n",
       "      <th>2</th>\n",
       "      <td>NaN</td>\n",
       "      <td>Avantika A.</td>\n",
       "      <td>1118</td>\n",
       "      <td>5.0</td>\n",
       "      <td>10/8/2018</td>\n",
       "      <td>loved the chilli uttapam ! as someone who hail...</td>\n",
       "    </tr>\n",
       "    <tr>\n",
       "      <th>3</th>\n",
       "      <td>NaN</td>\n",
       "      <td>Ramya R.</td>\n",
       "      <td>1118</td>\n",
       "      <td>3.0</td>\n",
       "      <td>9/27/2018</td>\n",
       "      <td>this restaurant has a beautiful ambience but t...</td>\n",
       "    </tr>\n",
       "    <tr>\n",
       "      <th>4</th>\n",
       "      <td>NaN</td>\n",
       "      <td>N N.</td>\n",
       "      <td>1118</td>\n",
       "      <td>3.0</td>\n",
       "      <td>9/25/2018</td>\n",
       "      <td>tried this place for lunch last weekend. had h...</td>\n",
       "    </tr>\n",
       "  </tbody>\n",
       "</table>\n",
       "</div>"
      ],
      "text/plain": [
       "   review_id    user_name  business_id  stars        date  \\\n",
       "0        NaN      Alex K.         1118    3.0  10/30/2018   \n",
       "1        NaN    Alison W.         1118    4.0  10/11/2018   \n",
       "2        NaN  Avantika A.         1118    5.0   10/8/2018   \n",
       "3        NaN     Ramya R.         1118    3.0   9/27/2018   \n",
       "4        NaN         N N.         1118    3.0   9/25/2018   \n",
       "\n",
       "                                                text  \n",
       "0  this dosa location has a very romantic, upscal...  \n",
       "1  i would never had south indian cuisine or dosa...  \n",
       "2  loved the chilli uttapam ! as someone who hail...  \n",
       "3  this restaurant has a beautiful ambience but t...  \n",
       "4  tried this place for lunch last weekend. had h...  "
      ]
     },
     "execution_count": 43,
     "metadata": {},
     "output_type": "execute_result"
    }
   ],
   "source": [
    "reviews_df.head(5)"
   ]
  },
  {
   "cell_type": "code",
   "execution_count": 40,
   "metadata": {},
   "outputs": [],
   "source": [
    "chicago_reviews_df.drop(['restaurant_name'], inplace=True, axis = 1)"
   ]
  },
  {
   "cell_type": "code",
   "execution_count": 45,
   "metadata": {},
   "outputs": [],
   "source": [
    "new_reviews_df = reviews_df.append(chicago_reviews_df)\n",
    "new_reviews_df.to_csv(\"all_reviews.csv\")"
   ]
  },
  {
   "cell_type": "code",
   "execution_count": null,
   "metadata": {
    "collapsed": true
   },
   "outputs": [],
   "source": []
  }
 ],
 "metadata": {
  "kernelspec": {
   "display_name": "Python 3",
   "language": "python",
   "name": "python3"
  },
  "language_info": {
   "codemirror_mode": {
    "name": "ipython",
    "version": 3
   },
   "file_extension": ".py",
   "mimetype": "text/x-python",
   "name": "python",
   "nbconvert_exporter": "python",
   "pygments_lexer": "ipython3",
   "version": "3.6.7"
  }
 },
 "nbformat": 4,
 "nbformat_minor": 2
}
