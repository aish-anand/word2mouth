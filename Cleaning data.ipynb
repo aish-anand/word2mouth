{
 "cells": [
  {
   "cell_type": "code",
   "execution_count": 176,
   "metadata": {
    "collapsed": true
   },
   "outputs": [],
   "source": [
    "import pandas as pd\n",
    "import re\n",
    "import contractions\n",
    "import unidecode\n",
    "\n",
    "#load all datasets\n",
    "business_df = pd.read_csv(filepath_or_buffer=\"D:\\\\UMass\\\\Fall 18\\\\COMPSCI 585 NLP\\\\Project\\\\word2mouth\\\\business.csv\")\n",
    "menu_df = pd.read_csv(filepath_or_buffer=\"D:\\\\UMass\\\\Fall 18\\\\COMPSCI 585 NLP\\\\Project\\\\word2mouth\\\\menus.csv\")\n",
    "reviews_df = pd.read_csv(filepath_or_buffer=\"D:\\\\UMass\\\\Fall 18\\\\COMPSCI 585 NLP\\\\Project\\\\word2mouth\\\\reviews.csv\")"
   ]
  },
  {
   "cell_type": "code",
   "execution_count": 178,
   "metadata": {},
   "outputs": [],
   "source": [
    "#fix stars for each review\n",
    "reviews_df['stars'] = reviews_df['stars'].apply(lambda x: x[0:3])\n",
    "reviews_df['stars'] = pd.to_numeric(reviews_df['stars'])\n",
    "reviews_df['text'] = reviews_df['text'].apply(lambda x : x.lower())\n",
    "reviews_df['text'] = reviews_df['text'].apply(lambda x : unidecode.unidecode(x))\n",
    "reviews_df['text'] = reviews_df['text'].apply(lambda x : re.sub('[0-9\":-\\\\\\/\\$()]', ' ', x))\n",
    "reviews_df['text'] = reviews_df['text'].apply(lambda x : re.sub('[\\n]',' ', x))\n",
    "reviews_df['text'] = reviews_df['text'].apply(lambda x : re.sub('[-]*', '', x))\n",
    "reviews_df['text'] = reviews_df['text'].apply(lambda x : re.sub('[.]+','.', x))\n",
    "reviews_df['text'] = reviews_df['text'].apply(lambda x : re.sub('\\*', ' ',x))\n",
    "reviews_df['text'] = reviews_df['text'].apply(lambda x : re.sub('[ ]+', ' ',x))\n",
    "reviews_df['text'] = reviews_df['text'].apply(lambda x : contractions.fix(x));\n",
    "\n",
    "\n",
    "# #convert 25 reviews from san tung to txt files for annotation\n",
    "# san_tung_reviews = reviews_df[reviews_df['business_id'] == 1117].head(26)\n",
    "# for index, row in san_tung_reviews.iterrows():\n",
    "#     with open(\"D:\\\\UMass\\\\Fall 18\\\\COMPSCI 585 NLP\\\\Project\\\\annotation\\\\\"+str(index)+\".txt\", \"w\") as text_file:\n",
    "#         text_file.write(row['text'])"
   ]
  },
  {
   "cell_type": "code",
   "execution_count": 190,
   "metadata": {},
   "outputs": [],
   "source": [
    "import csv\n",
    "sentences = \"\"\n",
    "for index, row in san_tung_reviews.iterrows():\n",
    "    sentences = sentences + row['text']\n",
    "list_sentences = sentences.split(\".\")\n",
    "# print(list_sentences)\n",
    "sentiment_train = open(\"sentiment_train.csv\",'w')\n",
    "# Create Writer Object\n",
    "wr = csv.writer(sentiment_train, dialect='excel')\n",
    "    \n",
    "for item in list_sentences:\n",
    "    item = item.strip()\n",
    "    sentiment_train.write(item+ \"\\n\")\n"
   ]
  },
  {
   "cell_type": "code",
   "execution_count": 191,
   "metadata": {
    "collapsed": true
   },
   "outputs": [],
   "source": [
    "sentiment_train.close()"
   ]
  }
 ],
 "metadata": {
  "kernelspec": {
   "display_name": "Python 36",
   "language": "python",
   "name": "py36"
  },
  "language_info": {
   "codemirror_mode": {
    "name": "ipython",
    "version": 3
   },
   "file_extension": ".py",
   "mimetype": "text/x-python",
   "name": "python",
   "nbconvert_exporter": "python",
   "pygments_lexer": "ipython3",
   "version": "3.6.1"
  }
 },
 "nbformat": 4,
 "nbformat_minor": 2
}
