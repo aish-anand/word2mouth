{
 "cells": [
  {
   "cell_type": "code",
   "execution_count": null,
   "metadata": {
    "collapsed": true
   },
   "outputs": [],
   "source": [
    "import pandas as pd\n",
    "import spacy"
   ]
  },
  {
   "cell_type": "code",
   "execution_count": null,
   "metadata": {
    "collapsed": true
   },
   "outputs": [],
   "source": [
    "# sample spacy similarity\n",
    "nlp = spacy.load('en')  # make sure to use larger model -> later\n",
    "tokens = nlp(u'dog cat banana')\n",
    "\n",
    "for token1 in tokens:\n",
    "    for token2 in tokens:\n",
    "        print(token1.text, token2.text, token1.similarity(token2))"
   ]
  },
  {
   "cell_type": "code",
   "execution_count": null,
   "metadata": {
    "collapsed": true
   },
   "outputs": [],
   "source": [
    "# read all CSV files\n",
    "pred_ents = pd.read_csv(\"predictions.csv\")\n",
    "# reviews = pd.read_csv(\"all_reviews.csv\")\n",
    "# menus = pd.read_csv(\"all_reviews.csv\")"
   ]
  },
  {
   "cell_type": "code",
   "execution_count": null,
   "metadata": {
    "collapsed": true
   },
   "outputs": [],
   "source": [
    "# combine reviews and annotations; drop unnecessary cols\n",
    "print(\"predicted entities = \",pred_ents.shape)\n",
    "print(\"reviews = \",reviews.shape)\n",
    "reviews_with_ents = reviews.merge(right = pred_ents,how = 'inner',on ='review_id', sort = True)\n",
    "print(\"Merged = \", reviews_with_ents.shape)\n",
    "reviews_with_ents.head()"
   ]
  },
  {
   "cell_type": "code",
   "execution_count": null,
   "metadata": {
    "collapsed": true
   },
   "outputs": [],
   "source": [
    "reviews_with_ents.drop(['user_name', 'business_id_y'], axis = 1, inplace = True)\n",
    "reviews_with_ents.columns = ['review_id', 'business_id', 'stars', 'date', 'text', 'entities']\n",
    "reviews_with_ents.head()"
   ]
  },
  {
   "cell_type": "code",
   "execution_count": null,
   "metadata": {
    "collapsed": true
   },
   "outputs": [],
   "source": [
    "pred_ents['entities'][0]"
   ]
  },
  {
   "cell_type": "code",
   "execution_count": null,
   "metadata": {
    "collapsed": true,
    "scrolled": false
   },
   "outputs": [],
   "source": [
    "reviews['sentences'] = reviews['text'].apply(lambda x: x.split('.'))\n",
    "reviews['sentences'] = reviews['sentences'].apply(lambda x: [s.strip() for s in x])\n"
   ]
  },
  {
   "cell_type": "code",
   "execution_count": null,
   "metadata": {
    "collapsed": true
   },
   "outputs": [],
   "source": [
    "s = reviews.apply(lambda x: pd.Series(x['sentences']),axis=1).stack().reset_index(level=1, drop=True)\n",
    "s.name = 'sentence'\n",
    "sent_tokenize_reviews = reviews.drop('sentences', axis=1).join(s).drop('text', axis = 1)\n",
    "sent_tokenize_reviews.shape\n",
    "sent_pred_ents = pd.read_csv(\"predictions_sentence.csv\")"
   ]
  },
  {
   "cell_type": "code",
   "execution_count": null,
   "metadata": {
    "collapsed": true
   },
   "outputs": [],
   "source": [
    "from ast import literal_eval\n",
    "sent_pred_ents = pd.read_csv(\"predictions_sentence.csv\")\n",
    "sent_pred_ents['entities'] = sent_pred_ents['entities'].apply(literal_eval)\n",
    "sent_pred_ents['len'] = sent_pred_ents['entities'].apply(lambda x: len(x))\n",
    "agg1 = sent_pred_ents.groupby(['review_id', 'business_id']).agg({'len' : 'sum'})"
   ]
  },
  {
   "cell_type": "code",
   "execution_count": null,
   "metadata": {
    "collapsed": true
   },
   "outputs": [],
   "source": [
    "sent_pred_ents"
   ]
  },
  {
   "cell_type": "code",
   "execution_count": null,
   "metadata": {
    "collapsed": true,
    "scrolled": true
   },
   "outputs": [],
   "source": [
    "pred_ents['entities'] = pred_ents['entities'].apply(literal_eval)\n",
    "pred_ents['len'] = pred_ents['entities'].apply(lambda x: len(x))\n",
    "agg2 = pred_ents.groupby(['review_id','business_id']).agg({'len':'sum'})\n",
    "agg2"
   ]
  },
  {
   "cell_type": "code",
   "execution_count": null,
   "metadata": {
    "collapsed": true
   },
   "outputs": [],
   "source": [
    "m = agg1.merge(right = agg2, how = 'inner', on = 'review_id')\n"
   ]
  },
  {
   "cell_type": "code",
   "execution_count": null,
   "metadata": {
    "collapsed": true
   },
   "outputs": [],
   "source": [
    "m['len_x'] = pd.to_numeric(m['len_x'])\n",
    "m['len_y'] = pd.to_numeric(m['len_y'])\n",
    "m['check'] = abs(m['len_x'] - m['len_y'])\n",
    "print(sum(m['len_x']))\n",
    "print(sum(m['len_y']))"
   ]
  },
  {
   "cell_type": "code",
   "execution_count": null,
   "metadata": {
    "collapsed": true,
    "scrolled": true
   },
   "outputs": [],
   "source": [
    "data = [['Alex',10],['Bob',12],['Clarke',13]]\n",
    "df = pd.DataFrame(data,columns=['Name','Age'])\n",
    "df"
   ]
  },
  {
   "cell_type": "code",
   "execution_count": null,
   "metadata": {
    "collapsed": true
   },
   "outputs": [],
   "source": [
    "large_diff = m[m['check'] > 3]\n",
    "s = large_diff['review_id'].tolist()"
   ]
  },
  {
   "cell_type": "code",
   "execution_count": null,
   "metadata": {
    "collapsed": true
   },
   "outputs": [],
   "source": [
    "sent_pred_ents[sent_pred_ents['review_id'].isin(s)].to_csv(\"new_missing.csv\")"
   ]
  },
  {
   "cell_type": "markdown",
   "metadata": {},
   "source": [
    "## Similarity Between Items"
   ]
  },
  {
   "cell_type": "code",
   "execution_count": null,
   "metadata": {
    "collapsed": true
   },
   "outputs": [],
   "source": [
    "from ast  import literal_eval\n",
    "pred_ann_snt = pd.read_csv(\"predictions_sentence_sentiment.csv\", encoding = 'utf8')\n",
    "pred_ann_snt['entities'] = pred_ann_snt['entities'].apply(literal_eval)\n",
    "pred_ann_snt['len'] = pred_ann_snt['entities'].apply(lambda x: len(x))\n",
    "\n",
    "print(pred_ann_snt.shape)\n",
    "pred_ann_snt.drop(pred_ann_snt[pred_ann_snt.len < 1].index, inplace=True)\n",
    "pred_ann_snt.drop(columns='len', inplace=True)\n",
    "print(pred_ann_snt.shape)"
   ]
  },
  {
   "cell_type": "markdown",
   "metadata": {},
   "source": [
    "## Creating a menu"
   ]
  },
  {
   "cell_type": "code",
   "execution_count": null,
   "metadata": {
    "collapsed": true
   },
   "outputs": [],
   "source": [
    "menu_dict = {}\n",
    "unique_b_id = pred_ann_snt['business_id'].unique()\n",
    "unique_b_id\n",
    "\n",
    "pred_ann_snt['food'] = pred_ann_snt['entities'].apply(lambda x: [a[0] for a in x])\n",
    "pred_ann_snt.head()\n",
    "\n",
    "for b_id in unique_b_id:\n",
    "    menu_dict[b_id] = pred_ann_snt[pred_ann_snt['business_id'] == b_id]['food'].values.tolist()\n",
    "\n",
    "for k in menu_dict.keys():\n",
    "    print(k)\n",
    "    items = set()\n",
    "    for l in menu_dict.get(k, \"\"):\n",
    "#         print(l)\n",
    "        items = items.union(set(l))\n",
    "    menu_dict[k] = list(items)\n",
    "\n",
    "    \n",
    "# similarity with  spacy\n",
    "sim_list = []\n",
    "for token1 in tokens:\n",
    "    for token2 in tokens:\n",
    "        sim_list.append((token1.text, token2.text, token1.similarity(token2)))\n",
    "\n",
    "# from itertools import ifilter\n",
    "filtered = [item for item in sim_list if item[2]>0.8]"
   ]
  },
  {
   "cell_type": "code",
   "execution_count": null,
   "metadata": {
    "collapsed": true
   },
   "outputs": [],
   "source": [
    "import csv\n",
    "with open(\"filtered_sim_list.csv\", \"w\") as f:\n",
    "    writer = csv.writer(f)\n",
    "    writer.writerows(filtered)"
   ]
  },
  {
   "cell_type": "markdown",
   "metadata": {},
   "source": [
    "## Similarity with substring match"
   ]
  },
  {
   "cell_type": "code",
   "execution_count": null,
   "metadata": {
    "collapsed": true
   },
   "outputs": [],
   "source": [
    "for k in menu_dict.keys():\n",
    "    menu = menu_dict.get(k, \"\")\n",
    "    print(len(menu))\n",
    "    for item1 in menu:\n",
    "        for item2 in menu:\n",
    "            if len(item1) > len(item2) and item2 in item1:\n",
    "                if item2 in menu:\n",
    "                    menu.remove(item2)\n",
    "            elif len(item2) > len(item1) and item1 in item2:\n",
    "                if item1 in menu:\n",
    "                    menu.remove(item1)\n",
    "    menu_dict[k] = menu\n",
    "\n",
    "#substring match\n",
    "import pickle\n",
    "pickle.dump(menu_dict, open( \"menu_dict_substring_match.p\", \"wb\" ))"
   ]
  },
  {
   "cell_type": "markdown",
   "metadata": {},
   "source": [
    "## fuzzy match"
   ]
  },
  {
   "cell_type": "code",
   "execution_count": null,
   "metadata": {
    "collapsed": true
   },
   "outputs": [],
   "source": [
    "from fuzzywuzzy import process\n",
    "from fuzzywuzzy import fuzz\n",
    "\n",
    "#create a raw menu from mentions\n",
    "menu_dict_fuzz = {}\n",
    "unique_b_id = pred_ann_snt['business_id'].unique()\n",
    "unique_b_id\n",
    "\n",
    "pred_ann_snt['food'] = pred_ann_snt['entities'].apply(lambda x: [a[0] for a in x])\n",
    "pred_ann_snt.head()\n",
    "\n",
    "for b_id in unique_b_id:\n",
    "    menu_dict_fuzz[b_id] = pred_ann_snt[pred_ann_snt['business_id'] == b_id]['food'].values.tolist()\n",
    "\n",
    "for k in menu_dict_fuzz.keys():\n",
    "#     print(k)\n",
    "    items = set()\n",
    "    for l in menu_dict_fuzz.get(k, \"\"):\n",
    "        items = items.union(set(l))\n",
    "    menu_dict_fuzz[k] = list(items)\n",
    "\n",
    "print(\"Before Match!\")\n",
    "for k in menu_dict_fuzz.keys():\n",
    "    print(k, len(menu_dict_fuzz.get(k, \"\")))\n",
    "    \n",
    "for k in menu_dict_fuzz.keys():\n",
    "    menu = menu_dict_fuzz.get(k, \"\")\n",
    "#     print(len(menu))\n",
    "    for item1 in menu:\n",
    "        for item2 in menu:\n",
    "            if fuzz.ratio(item1,item2)  > 80 and item1 != item2:\n",
    "#                 print(item1,\" , \", item2, \" score = \", fuzz.ratio(item1, item2))\n",
    "                if len(item1) > len(item2):\n",
    "                    if item2 in menu:\n",
    "                        menu.remove(item2)\n",
    "                elif len(item2) > len(item1):\n",
    "                    if item1 in menu:\n",
    "                        menu.remove(item1)\n",
    "    menu_dict_fuzz[k] = menu\n",
    "\n",
    "print(\"After match!\")\n",
    "for k in menu_dict_fuzz.keys():\n",
    "    print(k, len(menu_dict_fuzz.get(k, \"\")))"
   ]
  },
  {
   "cell_type": "code",
   "execution_count": 17,
   "metadata": {},
   "outputs": [
    {
     "ename": "NameError",
     "evalue": "name 'menu_dict_fuzz' is not defined",
     "output_type": "error",
     "traceback": [
      "\u001b[1;31m---------------------------------------------------------------------------\u001b[0m",
      "\u001b[1;31mNameError\u001b[0m                                 Traceback (most recent call last)",
      "\u001b[1;32m<ipython-input-17-857e50d69233>\u001b[0m in \u001b[0;36m<module>\u001b[1;34m()\u001b[0m\n\u001b[0;32m      2\u001b[0m \u001b[1;32mimport\u001b[0m \u001b[0mpickle\u001b[0m\u001b[1;33m\u001b[0m\u001b[0m\n\u001b[0;32m      3\u001b[0m \u001b[0mfile\u001b[0m \u001b[1;33m=\u001b[0m \u001b[0mopen\u001b[0m\u001b[1;33m(\u001b[0m \u001b[1;34m\"menu_dict_fuzzy_match.p\"\u001b[0m\u001b[1;33m,\u001b[0m \u001b[1;34m\"wb\"\u001b[0m \u001b[1;33m)\u001b[0m\u001b[1;33m\u001b[0m\u001b[0m\n\u001b[1;32m----> 4\u001b[1;33m \u001b[0mpickle\u001b[0m\u001b[1;33m.\u001b[0m\u001b[0mdump\u001b[0m\u001b[1;33m(\u001b[0m\u001b[0mmenu_dict_fuzz\u001b[0m\u001b[1;33m,\u001b[0m \u001b[0mfile\u001b[0m\u001b[1;33m)\u001b[0m\u001b[1;33m\u001b[0m\u001b[0m\n\u001b[0m\u001b[0;32m      5\u001b[0m \u001b[0mfile\u001b[0m\u001b[1;33m.\u001b[0m\u001b[0mclose\u001b[0m\u001b[1;33m(\u001b[0m\u001b[1;33m)\u001b[0m\u001b[1;33m\u001b[0m\u001b[0m\n",
      "\u001b[1;31mNameError\u001b[0m: name 'menu_dict_fuzz' is not defined"
     ]
    }
   ],
   "source": [
    "#substring match\n",
    "import pickle\n",
    "file = open( \"menu_dict_fuzzy_match.p\", \"wb\" )\n",
    "pickle.dump(menu_dict_fuzz, file)\n",
    "file.close()"
   ]
  },
  {
   "cell_type": "markdown",
   "metadata": {},
   "source": [
    "## No similarity match!"
   ]
  },
  {
   "cell_type": "code",
   "execution_count": null,
   "metadata": {
    "collapsed": true
   },
   "outputs": [],
   "source": [
    "#create a raw menu from mentions\n",
    "menu_dict_plain = {}\n",
    "unique_b_id = pred_ann_snt['business_id'].unique()\n",
    "unique_b_id\n",
    "\n",
    "pred_ann_snt['food'] = pred_ann_snt['entities'].apply(lambda x: [a[0] for a in x])\n",
    "pred_ann_snt.head()\n",
    "\n",
    "for b_id in unique_b_id:\n",
    "    menu_dict_plain[b_id] = pred_ann_snt[pred_ann_snt['business_id'] == b_id]['food'].values.tolist()\n",
    "\n",
    "for k in menu_dict_fuzz.keys():\n",
    "#     print(k)\n",
    "    items = set()\n",
    "    for l in menu_dict_plain.get(k, \"\"):\n",
    "        items = items.union(set(l))\n",
    "    menu_dict_plain[k] = list(items)"
   ]
  },
  {
   "cell_type": "markdown",
   "metadata": {},
   "source": [
    "## Scoring metric"
   ]
  },
  {
   "cell_type": "code",
   "execution_count": null,
   "metadata": {
    "collapsed": true
   },
   "outputs": [],
   "source": [
    "for k in actual_menus.keys():\n",
    "    print(\"Business id: \", k)\n",
    "    menu_size = len(actual_menus.get(k, \"\"))\n",
    "    fuzz_count = 0\n",
    "    substr_count = 0\n",
    "    plain_count = 0 \n",
    "    fuzz_count += len(set(actual_menus.get(k, \"\")) & set(menu_dict_fuzz.get(k, \"\")))\n",
    "    substr_count += len(set(actual_menus.get(k, \"\")) & set(menu_dict.get(k, \"\")))\n",
    "    plain_count += len(set(actual_menus.get(k, \"\")) & set(menu_dict_plain.get(k, \"\")))\n",
    "    print(\"Menu item found with fuzzy match - \", fuzz_count/menu_size*100)\n",
    "    print(\"Menu item found with substring match - \", substr_count/menu_size*100)\n",
    "    print(\"Menu item found with no similiarity match - \", plain_count/menu_size*100)"
   ]
  },
  {
   "cell_type": "markdown",
   "metadata": {},
   "source": [
    "### Top K items"
   ]
  },
  {
   "cell_type": "code",
   "execution_count": 1,
   "metadata": {},
   "outputs": [
    {
     "name": "stdout",
     "output_type": "stream",
     "text": [
      "(35869, 10)\n",
      "(11298, 9)\n"
     ]
    }
   ],
   "source": [
    "import pandas as pd\n",
    "from ast  import literal_eval\n",
    "pred_ann_snt = pd.read_csv(\"predictions_sentence_sentiment.csv\", encoding = 'utf8')\n",
    "pred_ann_snt['entities'] = pred_ann_snt['entities'].apply(literal_eval)\n",
    "pred_ann_snt['len'] = pred_ann_snt['entities'].apply(lambda x: len(x))\n",
    "\n",
    "print(pred_ann_snt.shape)\n",
    "pred_ann_snt.drop(pred_ann_snt[pred_ann_snt.len < 1].index, inplace=True)\n",
    "pred_ann_snt.drop('len',axis= 1, inplace=True)\n",
    "print(pred_ann_snt.shape)\n"
   ]
  },
  {
   "cell_type": "code",
   "execution_count": 2,
   "metadata": {},
   "outputs": [
    {
     "data": {
      "text/html": [
       "<div>\n",
       "<style>\n",
       "    .dataframe thead tr:only-child th {\n",
       "        text-align: right;\n",
       "    }\n",
       "\n",
       "    .dataframe thead th {\n",
       "        text-align: left;\n",
       "    }\n",
       "\n",
       "    .dataframe tbody tr th {\n",
       "        vertical-align: top;\n",
       "    }\n",
       "</style>\n",
       "<table border=\"1\" class=\"dataframe\">\n",
       "  <thead>\n",
       "    <tr style=\"text-align: right;\">\n",
       "      <th></th>\n",
       "      <th>review_id</th>\n",
       "      <th>business_id</th>\n",
       "      <th>entities</th>\n",
       "      <th>vader_sentiment</th>\n",
       "      <th>stars</th>\n",
       "      <th>date</th>\n",
       "    </tr>\n",
       "  </thead>\n",
       "  <tbody>\n",
       "    <tr>\n",
       "      <th>0</th>\n",
       "      <td>1</td>\n",
       "      <td>1118</td>\n",
       "      <td>[(curry, 102, 107)]</td>\n",
       "      <td>negative</td>\n",
       "      <td>3</td>\n",
       "      <td>10/30/18</td>\n",
       "    </tr>\n",
       "    <tr>\n",
       "      <th>1</th>\n",
       "      <td>1</td>\n",
       "      <td>1118</td>\n",
       "      <td>[(channa bhatura curry, 6, 26), (curry, 59, 64)]</td>\n",
       "      <td>positive</td>\n",
       "      <td>3</td>\n",
       "      <td>10/30/18</td>\n",
       "    </tr>\n",
       "    <tr>\n",
       "      <th>2</th>\n",
       "      <td>1</td>\n",
       "      <td>1118</td>\n",
       "      <td>[(soup, 4, 8)]</td>\n",
       "      <td>positive</td>\n",
       "      <td>3</td>\n",
       "      <td>10/30/18</td>\n",
       "    </tr>\n",
       "    <tr>\n",
       "      <th>3</th>\n",
       "      <td>1</td>\n",
       "      <td>1118</td>\n",
       "      <td>[(seemingly, 125, 134)]</td>\n",
       "      <td>positive</td>\n",
       "      <td>3</td>\n",
       "      <td>10/30/18</td>\n",
       "    </tr>\n",
       "    <tr>\n",
       "      <th>4</th>\n",
       "      <td>2</td>\n",
       "      <td>1118</td>\n",
       "      <td>[(cuisine, 31, 38)]</td>\n",
       "      <td>positive</td>\n",
       "      <td>4</td>\n",
       "      <td>10/11/18</td>\n",
       "    </tr>\n",
       "  </tbody>\n",
       "</table>\n",
       "</div>"
      ],
      "text/plain": [
       "   review_id  business_id                                          entities  \\\n",
       "0          1         1118                               [(curry, 102, 107)]   \n",
       "1          1         1118  [(channa bhatura curry, 6, 26), (curry, 59, 64)]   \n",
       "2          1         1118                                    [(soup, 4, 8)]   \n",
       "3          1         1118                           [(seemingly, 125, 134)]   \n",
       "4          2         1118                               [(cuisine, 31, 38)]   \n",
       "\n",
       "  vader_sentiment  stars      date  \n",
       "0        negative      3  10/30/18  \n",
       "1        positive      3  10/30/18  \n",
       "2        positive      3  10/30/18  \n",
       "3        positive      3  10/30/18  \n",
       "4        positive      4  10/11/18  "
      ]
     },
     "execution_count": 2,
     "metadata": {},
     "output_type": "execute_result"
    }
   ],
   "source": [
    "reviews = pd.read_csv(\"all_reviews.csv\")\n",
    "pred_ann_snt = pred_ann_snt.merge(right = reviews, how =\"left\", on = [\"review_id\", \"business_id\"])\n",
    "pred_ann_snt.drop(['compound', 'neg', 'pos', 'neu', 'user_name', 'text','sentence'], axis = 1, inplace=True)\n",
    "pred_ann_snt.head()"
   ]
  },
  {
   "cell_type": "code",
   "execution_count": 3,
   "metadata": {
    "collapsed": true
   },
   "outputs": [],
   "source": [
    "pred_ann_snt['food'] = pred_ann_snt['entities'].apply(lambda x: [a[0] for a in x])\n",
    "pred_ann_snt.drop('entities', axis = 1, inplace = True)"
   ]
  },
  {
   "cell_type": "code",
   "execution_count": 4,
   "metadata": {
    "collapsed": true
   },
   "outputs": [],
   "source": [
    "pred_ann_snt['date'] = pd.to_datetime(pred_ann_snt['date'])\n",
    "pred_ann_snt['today'] = \"12/6/2018\" #today's date\n",
    "pred_ann_snt['today'] = pd.to_datetime(pred_ann_snt['today'])\n",
    "pred_ann_snt['sentiment_score'] = pred_ann_snt['vader_sentiment'].apply(lambda x: 1 if x == \"positive\" else 0)\n",
    "pred_ann_snt['rating'] = pred_ann_snt['stars'].apply(lambda x: 1 if x>3 else 0)\n",
    "pred_ann_snt['recency'] = pred_ann_snt['today'] - pred_ann_snt['date']"
   ]
  },
  {
   "cell_type": "code",
   "execution_count": 5,
   "metadata": {},
   "outputs": [
    {
     "data": {
      "text/html": [
       "<div>\n",
       "<style>\n",
       "    .dataframe thead tr:only-child th {\n",
       "        text-align: right;\n",
       "    }\n",
       "\n",
       "    .dataframe thead th {\n",
       "        text-align: left;\n",
       "    }\n",
       "\n",
       "    .dataframe tbody tr th {\n",
       "        vertical-align: top;\n",
       "    }\n",
       "</style>\n",
       "<table border=\"1\" class=\"dataframe\">\n",
       "  <thead>\n",
       "    <tr style=\"text-align: right;\">\n",
       "      <th></th>\n",
       "      <th>review_id</th>\n",
       "      <th>business_id</th>\n",
       "      <th>food</th>\n",
       "      <th>sentiment_score</th>\n",
       "      <th>rating</th>\n",
       "      <th>recency</th>\n",
       "    </tr>\n",
       "  </thead>\n",
       "  <tbody>\n",
       "    <tr>\n",
       "      <th>0</th>\n",
       "      <td>1</td>\n",
       "      <td>1118</td>\n",
       "      <td>[curry]</td>\n",
       "      <td>0</td>\n",
       "      <td>0</td>\n",
       "      <td>37 days</td>\n",
       "    </tr>\n",
       "    <tr>\n",
       "      <th>1</th>\n",
       "      <td>1</td>\n",
       "      <td>1118</td>\n",
       "      <td>[channa bhatura curry, curry]</td>\n",
       "      <td>1</td>\n",
       "      <td>0</td>\n",
       "      <td>37 days</td>\n",
       "    </tr>\n",
       "    <tr>\n",
       "      <th>2</th>\n",
       "      <td>1</td>\n",
       "      <td>1118</td>\n",
       "      <td>[soup]</td>\n",
       "      <td>1</td>\n",
       "      <td>0</td>\n",
       "      <td>37 days</td>\n",
       "    </tr>\n",
       "    <tr>\n",
       "      <th>3</th>\n",
       "      <td>1</td>\n",
       "      <td>1118</td>\n",
       "      <td>[seemingly]</td>\n",
       "      <td>1</td>\n",
       "      <td>0</td>\n",
       "      <td>37 days</td>\n",
       "    </tr>\n",
       "    <tr>\n",
       "      <th>4</th>\n",
       "      <td>2</td>\n",
       "      <td>1118</td>\n",
       "      <td>[cuisine]</td>\n",
       "      <td>1</td>\n",
       "      <td>1</td>\n",
       "      <td>56 days</td>\n",
       "    </tr>\n",
       "  </tbody>\n",
       "</table>\n",
       "</div>"
      ],
      "text/plain": [
       "   review_id  business_id                           food  sentiment_score  \\\n",
       "0          1         1118                        [curry]                0   \n",
       "1          1         1118  [channa bhatura curry, curry]                1   \n",
       "2          1         1118                         [soup]                1   \n",
       "3          1         1118                    [seemingly]                1   \n",
       "4          2         1118                      [cuisine]                1   \n",
       "\n",
       "   rating recency  \n",
       "0       0 37 days  \n",
       "1       0 37 days  \n",
       "2       0 37 days  \n",
       "3       0 37 days  \n",
       "4       1 56 days  "
      ]
     },
     "execution_count": 5,
     "metadata": {},
     "output_type": "execute_result"
    }
   ],
   "source": [
    "pred_ann_snt.drop(['vader_sentiment', 'stars', 'date','today'], axis = 1, inplace = True)\n",
    "pred_ann_snt.head()"
   ]
  },
  {
   "cell_type": "code",
   "execution_count": 6,
   "metadata": {
    "collapsed": true
   },
   "outputs": [],
   "source": [
    "s = pred_ann_snt.apply(lambda x: pd.Series(x['food']),axis=1).stack().reset_index(level=1, drop=True)\n",
    "s.name = 'dish'\n",
    "scored_df = pred_ann_snt.drop('food', axis=1).join(s)"
   ]
  },
  {
   "cell_type": "code",
   "execution_count": 7,
   "metadata": {
    "collapsed": true
   },
   "outputs": [],
   "source": [
    "import math\n",
    "lambda_val = 0\n",
    "scored_df['score'] = (scored_df['sentiment_score']+scored_df['rating'])/2\n",
    "# scored_df['recency'] = pd.to_numeric(scored_df['recency'])\n",
    "scored_df['score_1'] = scored_df['recency'].apply(lambda x: math.exp(-lambda_val*x.days))\n",
    "scored_df['score'] = scored_df['score']*scored_df['score_1']"
   ]
  },
  {
   "cell_type": "code",
   "execution_count": 8,
   "metadata": {},
   "outputs": [
    {
     "data": {
      "text/plain": [
       "196         pepper shrimp\n",
       "196    incredible chicken\n",
       "196          pork curries\n",
       "Name: dish, dtype: object"
      ]
     },
     "execution_count": 8,
     "metadata": {},
     "output_type": "execute_result"
    }
   ],
   "source": [
    "scored_df['dish'][196]"
   ]
  },
  {
   "cell_type": "code",
   "execution_count": 9,
   "metadata": {
    "collapsed": true
   },
   "outputs": [],
   "source": [
    "new_df = scored_df.groupby(['business_id', 'dish']).agg({'score':'sum'}).reset_index()"
   ]
  },
  {
   "cell_type": "code",
   "execution_count": 11,
   "metadata": {},
   "outputs": [
    {
     "data": {
      "text/html": [
       "<div>\n",
       "<style>\n",
       "    .dataframe thead tr:only-child th {\n",
       "        text-align: right;\n",
       "    }\n",
       "\n",
       "    .dataframe thead th {\n",
       "        text-align: left;\n",
       "    }\n",
       "\n",
       "    .dataframe tbody tr th {\n",
       "        vertical-align: top;\n",
       "    }\n",
       "</style>\n",
       "<table border=\"1\" class=\"dataframe\">\n",
       "  <thead>\n",
       "    <tr style=\"text-align: right;\">\n",
       "      <th></th>\n",
       "      <th>business_id</th>\n",
       "      <th>dish</th>\n",
       "      <th>score</th>\n",
       "    </tr>\n",
       "  </thead>\n",
       "  <tbody>\n",
       "    <tr>\n",
       "      <th>0</th>\n",
       "      <td>1111</td>\n",
       "      <td>&amp; lobster newburg</td>\n",
       "      <td>0.5</td>\n",
       "    </tr>\n",
       "    <tr>\n",
       "      <th>1</th>\n",
       "      <td>1111</td>\n",
       "      <td>abraham</td>\n",
       "      <td>2.0</td>\n",
       "    </tr>\n",
       "    <tr>\n",
       "      <th>2</th>\n",
       "      <td>1111</td>\n",
       "      <td>aged ribeye</td>\n",
       "      <td>1.0</td>\n",
       "    </tr>\n",
       "    <tr>\n",
       "      <th>3</th>\n",
       "      <td>1111</td>\n",
       "      <td>aioli</td>\n",
       "      <td>0.5</td>\n",
       "    </tr>\n",
       "    <tr>\n",
       "      <th>4</th>\n",
       "      <td>1111</td>\n",
       "      <td>alas</td>\n",
       "      <td>0.0</td>\n",
       "    </tr>\n",
       "  </tbody>\n",
       "</table>\n",
       "</div>"
      ],
      "text/plain": [
       "   business_id               dish  score\n",
       "0         1111  & lobster newburg    0.5\n",
       "1         1111            abraham    2.0\n",
       "2         1111        aged ribeye    1.0\n",
       "3         1111              aioli    0.5\n",
       "4         1111               alas    0.0"
      ]
     },
     "execution_count": 11,
     "metadata": {},
     "output_type": "execute_result"
    }
   ],
   "source": [
    "new_df.head()"
   ]
  },
  {
   "cell_type": "code",
   "execution_count": 16,
   "metadata": {},
   "outputs": [
    {
     "ename": "EOFError",
     "evalue": "Ran out of input",
     "output_type": "error",
     "traceback": [
      "\u001b[1;31m---------------------------------------------------------------------------\u001b[0m",
      "\u001b[1;31mEOFError\u001b[0m                                  Traceback (most recent call last)",
      "\u001b[1;32m<ipython-input-16-b3157b525119>\u001b[0m in \u001b[0;36m<module>\u001b[1;34m()\u001b[0m\n\u001b[0;32m      1\u001b[0m \u001b[1;32mimport\u001b[0m \u001b[0mpickle\u001b[0m\u001b[1;33m\u001b[0m\u001b[0m\n\u001b[1;32m----> 2\u001b[1;33m \u001b[0mfuzz_match\u001b[0m \u001b[1;33m=\u001b[0m \u001b[0mpickle\u001b[0m\u001b[1;33m.\u001b[0m\u001b[0mload\u001b[0m\u001b[1;33m(\u001b[0m\u001b[0mopen\u001b[0m\u001b[1;33m(\u001b[0m \u001b[1;34m\"menu_dict_fuzzy_match.p\"\u001b[0m\u001b[1;33m,\u001b[0m \u001b[1;34m\"rb\"\u001b[0m \u001b[1;33m)\u001b[0m\u001b[1;33m)\u001b[0m\u001b[1;33m\u001b[0m\u001b[0m\n\u001b[0m\u001b[0;32m      3\u001b[0m \u001b[0mfuzz_match\u001b[0m\u001b[1;33m\u001b[0m\u001b[0m\n",
      "\u001b[1;31mEOFError\u001b[0m: Ran out of input"
     ]
    }
   ],
   "source": [
    "import pickle\n",
    "fuzz_match = pickle.load(open( \"menu_dict_fuzzy_match.p\", \"rb\" ))\n",
    "\n",
    "\n"
   ]
  }
 ],
 "metadata": {
  "kernelspec": {
   "display_name": "Python 36",
   "language": "python",
   "name": "py36"
  },
  "language_info": {
   "codemirror_mode": {
    "name": "ipython",
    "version": 3
   },
   "file_extension": ".py",
   "mimetype": "text/x-python",
   "name": "python",
   "nbconvert_exporter": "python",
   "pygments_lexer": "ipython3",
   "version": "3.6.1"
  }
 },
 "nbformat": 4,
 "nbformat_minor": 2
}
