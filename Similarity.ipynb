{
 "cells": [
  {
   "cell_type": "code",
   "execution_count": null,
   "metadata": {},
   "outputs": [],
   "source": [
    "import pandas as pd\n",
    "import spacy"
   ]
  },
  {
   "cell_type": "code",
   "execution_count": null,
   "metadata": {},
   "outputs": [],
   "source": [
    "# sample spacy similarity\n",
    "nlp = spacy.load('en')  # make sure to use larger model -> later\n",
    "tokens = nlp(u'dog cat banana')\n",
    "\n",
    "for token1 in tokens:\n",
    "    for token2 in tokens:\n",
    "        print(token1.text, token2.text, token1.similarity(token2))"
   ]
  },
  {
   "cell_type": "code",
   "execution_count": null,
   "metadata": {},
   "outputs": [],
   "source": [
    "# read all CSV files\n",
    "pred_ents = pd.read_csv(\"predictions.csv\")\n",
    "reviews = pd.read_csv(\"all_reviews.csv\")\n",
    "menus = pd.read_csv(\"all_reviews.csv\")"
   ]
  },
  {
   "cell_type": "code",
   "execution_count": null,
   "metadata": {},
   "outputs": [],
   "source": [
    "# combine reviews and annotations; drop unnecessary cols\n",
    "print(\"predicted entities = \",pred_ents.shape)\n",
    "print(\"reviews = \",reviews.shape)\n",
    "reviews_with_ents = reviews.merge(right = pred_ents,how = 'inner',on ='review_id', sort = True)\n",
    "print(\"Merged = \", reviews_with_ents.shape)\n",
    "reviews_with_ents.head()"
   ]
  },
  {
   "cell_type": "code",
   "execution_count": null,
   "metadata": {},
   "outputs": [],
   "source": [
    "reviews_with_ents.drop(['user_name', 'business_id_y'], axis = 1, inplace = True)\n",
    "reviews_with_ents.columns = ['review_id', 'business_id', 'stars', 'date', 'text', 'entities']\n",
    "reviews_with_ents.head()"
   ]
  },
  {
   "cell_type": "code",
   "execution_count": null,
   "metadata": {
    "scrolled": false
   },
   "outputs": [],
   "source": [
    "reviews['sentences'] = reviews['text'].apply(lambda x: x.split('.'))\n",
    "reviews['sentences'] = reviews['sentences'].apply(lambda x: [s.strip() for s in x])\n"
   ]
  },
  {
   "cell_type": "code",
   "execution_count": null,
   "metadata": {},
   "outputs": [],
   "source": [
    "s = reviews.apply(lambda x: pd.Series(x['sentences']),axis=1).stack().reset_index(level=1, drop=True)\n",
    "s.name = 'sentence'\n",
    "sent_tokenize_reviews = reviews.drop('sentences', axis=1).join(s).drop('text', axis = 1)\n",
    "sent_tokenize_reviews.shape"
   ]
  },
  {
   "cell_type": "code",
   "execution_count": null,
   "metadata": {},
   "outputs": [],
   "source": [
    "sent_tokenize_reviews.to_csv(\"sent_tokenize_reviews.csv\", index= False)"
   ]
  }
 ],
 "metadata": {
  "kernelspec": {
   "display_name": "Python 3",
   "language": "python",
   "name": "python3"
  },
  "language_info": {
   "codemirror_mode": {
    "name": "ipython",
    "version": 3
   },
   "file_extension": ".py",
   "mimetype": "text/x-python",
   "name": "python",
   "nbconvert_exporter": "python",
   "pygments_lexer": "ipython3",
   "version": "3.6.7"
  }
 },
 "nbformat": 4,
 "nbformat_minor": 2
}
