{
 "cells": [
  {
   "cell_type": "code",
   "execution_count": null,
   "metadata": {
    "collapsed": true
   },
   "outputs": [],
   "source": [
    "import pandas as pd\n",
    "import spacy"
   ]
  },
  {
   "cell_type": "code",
   "execution_count": null,
   "metadata": {
    "collapsed": true
   },
   "outputs": [],
   "source": [
    "# sample spacy similarity\n",
    "nlp = spacy.load('en')  # make sure to use larger model -> later\n",
    "tokens = nlp(u'dog cat banana')\n",
    "\n",
    "for token1 in tokens:\n",
    "    for token2 in tokens:\n",
    "        print(token1.text, token2.text, token1.similarity(token2))"
   ]
  },
  {
   "cell_type": "code",
   "execution_count": null,
   "metadata": {
    "collapsed": true
   },
   "outputs": [],
   "source": [
    "# read all CSV files\n",
    "pred_ents = pd.read_csv(\"predictions.csv\")\n",
    "# reviews = pd.read_csv(\"all_reviews.csv\")\n",
    "# menus = pd.read_csv(\"all_reviews.csv\")"
   ]
  },
  {
   "cell_type": "code",
   "execution_count": null,
   "metadata": {
    "collapsed": true
   },
   "outputs": [],
   "source": [
    "# combine reviews and annotations; drop unnecessary cols\n",
    "print(\"predicted entities = \",pred_ents.shape)\n",
    "print(\"reviews = \",reviews.shape)\n",
    "reviews_with_ents = reviews.merge(right = pred_ents,how = 'inner',on ='review_id', sort = True)\n",
    "print(\"Merged = \", reviews_with_ents.shape)\n",
    "reviews_with_ents.head()"
   ]
  },
  {
   "cell_type": "code",
   "execution_count": null,
   "metadata": {
    "collapsed": true
   },
   "outputs": [],
   "source": [
    "reviews_with_ents.drop(['user_name', 'business_id_y'], axis = 1, inplace = True)\n",
    "reviews_with_ents.columns = ['review_id', 'business_id', 'stars', 'date', 'text', 'entities']\n",
    "reviews_with_ents.head()"
   ]
  },
  {
   "cell_type": "code",
   "execution_count": null,
   "metadata": {
    "collapsed": true
   },
   "outputs": [],
   "source": [
    "pred_ents['entities'][0]"
   ]
  },
  {
   "cell_type": "code",
   "execution_count": null,
   "metadata": {
    "collapsed": true,
    "scrolled": false
   },
   "outputs": [],
   "source": [
    "reviews['sentences'] = reviews['text'].apply(lambda x: x.split('.'))\n",
    "reviews['sentences'] = reviews['sentences'].apply(lambda x: [s.strip() for s in x])\n"
   ]
  },
  {
   "cell_type": "code",
   "execution_count": null,
   "metadata": {
    "collapsed": true
   },
   "outputs": [],
   "source": [
    "s = reviews.apply(lambda x: pd.Series(x['sentences']),axis=1).stack().reset_index(level=1, drop=True)\n",
    "s.name = 'sentence'\n",
    "sent_tokenize_reviews = reviews.drop('sentences', axis=1).join(s).drop('text', axis = 1)\n",
    "sent_tokenize_reviews.shape\n",
    "sent_pred_ents = pd.read_csv(\"predictions_sentence.csv\")"
   ]
  },
  {
   "cell_type": "code",
   "execution_count": null,
   "metadata": {
    "collapsed": true
   },
   "outputs": [],
   "source": [
    "from ast import literal_eval\n",
    "sent_pred_ents = pd.read_csv(\"predictions_sentence.csv\")\n",
    "sent_pred_ents['entities'] = sent_pred_ents['entities'].apply(literal_eval)\n",
    "sent_pred_ents['len'] = sent_pred_ents['entities'].apply(lambda x: len(x))\n",
    "agg1 = sent_pred_ents.groupby(['review_id', 'business_id']).agg({'len' : 'sum'})"
   ]
  },
  {
   "cell_type": "code",
   "execution_count": null,
   "metadata": {
    "collapsed": true
   },
   "outputs": [],
   "source": [
    "sent_pred_ents"
   ]
  },
  {
   "cell_type": "code",
   "execution_count": null,
   "metadata": {
    "collapsed": true,
    "scrolled": true
   },
   "outputs": [],
   "source": [
    "pred_ents['entities'] = pred_ents['entities'].apply(literal_eval)\n",
    "pred_ents['len'] = pred_ents['entities'].apply(lambda x: len(x))\n",
    "agg2 = pred_ents.groupby(['review_id','business_id']).agg({'len':'sum'})\n",
    "agg2"
   ]
  },
  {
   "cell_type": "code",
   "execution_count": null,
   "metadata": {
    "collapsed": true
   },
   "outputs": [],
   "source": [
    "m = agg1.merge(right = agg2, how = 'inner', on = 'review_id')\n"
   ]
  },
  {
   "cell_type": "code",
   "execution_count": null,
   "metadata": {
    "collapsed": true
   },
   "outputs": [],
   "source": [
    "m['len_x'] = pd.to_numeric(m['len_x'])\n",
    "m['len_y'] = pd.to_numeric(m['len_y'])\n",
    "m['check'] = abs(m['len_x'] - m['len_y'])\n",
    "print(sum(m['len_x']))\n",
    "print(sum(m['len_y']))"
   ]
  },
  {
   "cell_type": "code",
   "execution_count": null,
   "metadata": {
    "collapsed": true,
    "scrolled": true
   },
   "outputs": [],
   "source": [
    "data = [['Alex',10],['Bob',12],['Clarke',13]]\n",
    "df = pd.DataFrame(data,columns=['Name','Age'])\n",
    "df"
   ]
  },
  {
   "cell_type": "code",
   "execution_count": null,
   "metadata": {
    "collapsed": true
   },
   "outputs": [],
   "source": [
    "large_diff = m[m['check'] > 3]\n",
    "s = large_diff['review_id'].tolist()"
   ]
  },
  {
   "cell_type": "code",
   "execution_count": null,
   "metadata": {
    "collapsed": true
   },
   "outputs": [],
   "source": [
    "sent_pred_ents[sent_pred_ents['review_id'].isin(s)].to_csv(\"new_missing.csv\")"
   ]
  },
  {
   "cell_type": "markdown",
   "metadata": {},
   "source": [
    "## Similarity Between Items"
   ]
  },
  {
   "cell_type": "code",
   "execution_count": 2,
   "metadata": {},
   "outputs": [
    {
     "name": "stdout",
     "output_type": "stream",
     "text": [
      "(35869, 10)\n",
      "(11298, 9)\n"
     ]
    }
   ],
   "source": [
    "import pandas as pd\n",
    "from ast  import literal_eval\n",
    "pred_ann_snt = pd.read_csv(\"predictions_sentence_sentiment.csv\", encoding = 'utf8')\n",
    "pred_ann_snt['entities'] = pred_ann_snt['entities'].apply(literal_eval)\n",
    "pred_ann_snt['len'] = pred_ann_snt['entities'].apply(lambda x: len(x))\n",
    "\n",
    "print(pred_ann_snt.shape)\n",
    "pred_ann_snt.drop(pred_ann_snt[pred_ann_snt.len < 1].index, inplace=True)\n",
    "pred_ann_snt.drop('len',axis=1, inplace=True)\n",
    "print(pred_ann_snt.shape)"
   ]
  },
  {
   "cell_type": "markdown",
   "metadata": {},
   "source": [
    "## Creating a menu"
   ]
  },
  {
   "cell_type": "code",
   "execution_count": 4,
   "metadata": {},
   "outputs": [
    {
     "name": "stdout",
     "output_type": "stream",
     "text": [
      "1118\n",
      "1116\n",
      "1120\n",
      "1117\n",
      "1119\n",
      "1126\n",
      "1127\n",
      "1128\n",
      "1129\n",
      "1130\n",
      "1122\n",
      "1121\n",
      "1123\n",
      "1124\n",
      "1125\n",
      "1111\n",
      "1112\n",
      "1113\n",
      "1114\n",
      "1115\n"
     ]
    },
    {
     "ename": "NameError",
     "evalue": "name 'tokens' is not defined",
     "output_type": "error",
     "traceback": [
      "\u001b[0;31m---------------------------------------------------------------------------\u001b[0m",
      "\u001b[0;31mNameError\u001b[0m                                 Traceback (most recent call last)",
      "\u001b[0;32m<ipython-input-4-188b3f6198c4>\u001b[0m in \u001b[0;36m<module>\u001b[0;34m()\u001b[0m\n\u001b[1;32m     20\u001b[0m \u001b[0;31m# similarity with  spacy\u001b[0m\u001b[0;34m\u001b[0m\u001b[0;34m\u001b[0m\u001b[0m\n\u001b[1;32m     21\u001b[0m \u001b[0msim_list\u001b[0m \u001b[0;34m=\u001b[0m \u001b[0;34m[\u001b[0m\u001b[0;34m]\u001b[0m\u001b[0;34m\u001b[0m\u001b[0m\n\u001b[0;32m---> 22\u001b[0;31m \u001b[0;32mfor\u001b[0m \u001b[0mtoken1\u001b[0m \u001b[0;32min\u001b[0m \u001b[0mtokens\u001b[0m\u001b[0;34m:\u001b[0m\u001b[0;34m\u001b[0m\u001b[0m\n\u001b[0m\u001b[1;32m     23\u001b[0m     \u001b[0;32mfor\u001b[0m \u001b[0mtoken2\u001b[0m \u001b[0;32min\u001b[0m \u001b[0mtokens\u001b[0m\u001b[0;34m:\u001b[0m\u001b[0;34m\u001b[0m\u001b[0m\n\u001b[1;32m     24\u001b[0m         \u001b[0msim_list\u001b[0m\u001b[0;34m.\u001b[0m\u001b[0mappend\u001b[0m\u001b[0;34m(\u001b[0m\u001b[0;34m(\u001b[0m\u001b[0mtoken1\u001b[0m\u001b[0;34m.\u001b[0m\u001b[0mtext\u001b[0m\u001b[0;34m,\u001b[0m \u001b[0mtoken2\u001b[0m\u001b[0;34m.\u001b[0m\u001b[0mtext\u001b[0m\u001b[0;34m,\u001b[0m \u001b[0mtoken1\u001b[0m\u001b[0;34m.\u001b[0m\u001b[0msimilarity\u001b[0m\u001b[0;34m(\u001b[0m\u001b[0mtoken2\u001b[0m\u001b[0;34m)\u001b[0m\u001b[0;34m)\u001b[0m\u001b[0;34m)\u001b[0m\u001b[0;34m\u001b[0m\u001b[0m\n",
      "\u001b[0;31mNameError\u001b[0m: name 'tokens' is not defined"
     ]
    }
   ],
   "source": [
    "menu_dict = {}\n",
    "unique_b_id = pred_ann_snt['business_id'].unique()\n",
    "unique_b_id\n",
    "\n",
    "pred_ann_snt['food'] = pred_ann_snt['entities'].apply(lambda x: [a[0] for a in x])\n",
    "pred_ann_snt.head()\n",
    "\n",
    "for b_id in unique_b_id:\n",
    "    menu_dict[b_id] = pred_ann_snt[pred_ann_snt['business_id'] == b_id]['food'].values.tolist()\n",
    "\n",
    "for k in menu_dict.keys():\n",
    "    print(k)\n",
    "    items = set()\n",
    "    for l in menu_dict.get(k, \"\"):\n",
    "#         print(l)\n",
    "        items = items.union(set(l))\n",
    "    menu_dict[k] = list(items)\n",
    "\n",
    "    \n",
    "# similarity with  spacy\n",
    "sim_list = []\n",
    "# for token1 in tokens:\n",
    "#     for token2 in tokens:\n",
    "#         sim_list.append((token1.text, token2.text, token1.similarity(token2)))\n",
    "\n",
    "# from itertools import ifilter\n",
    "filtered = [item for item in sim_list if item[2]>0.8]"
   ]
  },
  {
   "cell_type": "code",
   "execution_count": null,
   "metadata": {
    "collapsed": true
   },
   "outputs": [],
   "source": [
    "import csv\n",
    "with open(\"filtered_sim_list.csv\", \"w\") as f:\n",
    "    writer = csv.writer(f)\n",
    "    writer.writerows(filtered)"
   ]
  },
  {
   "cell_type": "markdown",
   "metadata": {},
   "source": [
    "## Similarity with substring match"
   ]
  },
  {
   "cell_type": "code",
   "execution_count": 5,
   "metadata": {},
   "outputs": [
    {
     "name": "stdout",
     "output_type": "stream",
     "text": [
      "165\n",
      "238\n",
      "414\n",
      "185\n",
      "200\n",
      "677\n",
      "377\n",
      "637\n",
      "229\n",
      "860\n",
      "240\n",
      "123\n",
      "241\n",
      "238\n",
      "291\n",
      "342\n",
      "145\n",
      "231\n",
      "146\n",
      "284\n"
     ]
    }
   ],
   "source": [
    "for k in menu_dict.keys():\n",
    "    menu = menu_dict.get(k, \"\")\n",
    "    print(len(menu))\n",
    "    for item1 in menu:\n",
    "        for item2 in menu:\n",
    "            if len(item1) > len(item2) and item2 in item1:\n",
    "                if item2 in menu:\n",
    "                    menu.remove(item2)\n",
    "            elif len(item2) > len(item1) and item1 in item2:\n",
    "                if item1 in menu:\n",
    "                    menu.remove(item1)\n",
    "    menu_dict[k] = menu\n",
    "\n",
    "#substring match\n",
    "import pickle\n",
    "file = open( \"menu_dict_substring_match.p\", \"wb\" )\n",
    "pickle.dump(menu_dict, file)\n",
    "file.close()"
   ]
  },
  {
   "cell_type": "markdown",
   "metadata": {},
   "source": [
    "## fuzzy match"
   ]
  },
  {
   "cell_type": "code",
   "execution_count": null,
   "metadata": {
    "collapsed": true
   },
   "outputs": [],
   "source": [
    "from fuzzywuzzy import process\n",
    "from fuzzywuzzy import fuzz\n",
    "\n",
    "#create a raw menu from mentions\n",
    "menu_dict_fuzz = {}\n",
    "unique_b_id = pred_ann_snt['business_id'].unique()\n",
    "unique_b_id\n",
    "\n",
    "pred_ann_snt['food'] = pred_ann_snt['entities'].apply(lambda x: [a[0] for a in x])\n",
    "pred_ann_snt.head()\n",
    "\n",
    "for b_id in unique_b_id:\n",
    "    menu_dict_fuzz[b_id] = pred_ann_snt[pred_ann_snt['business_id'] == b_id]['food'].values.tolist()\n",
    "\n",
    "for k in menu_dict_fuzz.keys():\n",
    "#     print(k)\n",
    "    items = set()\n",
    "    for l in menu_dict_fuzz.get(k, \"\"):\n",
    "        items = items.union(set(l))\n",
    "    menu_dict_fuzz[k] = list(items)\n",
    "\n",
    "print(\"Before Match!\")\n",
    "for k in menu_dict_fuzz.keys():\n",
    "    print(k, len(menu_dict_fuzz.get(k, \"\")))\n",
    "    \n",
    "for k in [1111]:\n",
    "    menu = menu_dict_fuzz.get(k, \"\")\n",
    "#     print(len(menu))\n",
    "    for item1 in menu:\n",
    "        for item2 in menu:\n",
    "            if fuzz.ratio(item1,item2)  > 80 and item1 != item2:\n",
    "                print(item1,\" , \", item2, \" score = \", fuzz.ratio(item1, item2))\n",
    "                if len(item1) > len(item2):\n",
    "                    if item2 in menu:\n",
    "                        menu.remove(item2)\n",
    "                elif len(item2) > len(item1):\n",
    "                    if item1 in menu:\n",
    "                        menu.remove(item1)\n",
    "    menu_dict_fuzz[k] = menu\n",
    "\n",
    "print(\"After match!\")\n",
    "for k in menu_dict_fuzz.keys():\n",
    "    print(k, len(menu_dict_fuzz.get(k, \"\")))"
   ]
  },
  {
   "cell_type": "code",
   "execution_count": 7,
   "metadata": {
    "collapsed": true
   },
   "outputs": [],
   "source": [
    "#substring match\n",
    "import pickle\n",
    "file = open( \"menu_dict_fuzzy_match.p\", \"wb\" )\n",
    "pickle.dump(menu_dict_fuzz, file)\n",
    "file.close()"
   ]
  },
  {
   "cell_type": "markdown",
   "metadata": {},
   "source": [
    "## No similarity match!"
   ]
  },
  {
   "cell_type": "code",
   "execution_count": 8,
   "metadata": {
    "collapsed": true
   },
   "outputs": [],
   "source": [
    "#create a raw menu from mentions\n",
    "menu_dict_plain = {}\n",
    "unique_b_id = pred_ann_snt['business_id'].unique()\n",
    "unique_b_id\n",
    "\n",
    "pred_ann_snt['food'] = pred_ann_snt['entities'].apply(lambda x: [a[0] for a in x])\n",
    "pred_ann_snt.head()\n",
    "\n",
    "for b_id in unique_b_id:\n",
    "    menu_dict_plain[b_id] = pred_ann_snt[pred_ann_snt['business_id'] == b_id]['food'].values.tolist()\n",
    "\n",
    "for k in menu_dict_fuzz.keys():\n",
    "#     print(k)\n",
    "    items = set()\n",
    "    for l in menu_dict_plain.get(k, \"\"):\n",
    "        items = items.union(set(l))\n",
    "    menu_dict_plain[k] = list(items)"
   ]
  },
  {
   "cell_type": "markdown",
   "metadata": {},
   "source": [
    "## Scoring metric"
   ]
  },
  {
   "cell_type": "code",
   "execution_count": 9,
   "metadata": {},
   "outputs": [
    {
     "ename": "NameError",
     "evalue": "name 'actual_menus' is not defined",
     "output_type": "error",
     "traceback": [
      "\u001b[0;31m---------------------------------------------------------------------------\u001b[0m",
      "\u001b[0;31mNameError\u001b[0m                                 Traceback (most recent call last)",
      "\u001b[0;32m<ipython-input-9-18d5f01e592e>\u001b[0m in \u001b[0;36m<module>\u001b[0;34m()\u001b[0m\n\u001b[0;32m----> 1\u001b[0;31m \u001b[0;32mfor\u001b[0m \u001b[0mk\u001b[0m \u001b[0;32min\u001b[0m \u001b[0mactual_menus\u001b[0m\u001b[0;34m.\u001b[0m\u001b[0mkeys\u001b[0m\u001b[0;34m(\u001b[0m\u001b[0;34m)\u001b[0m\u001b[0;34m:\u001b[0m\u001b[0;34m\u001b[0m\u001b[0m\n\u001b[0m\u001b[1;32m      2\u001b[0m     \u001b[0mprint\u001b[0m\u001b[0;34m(\u001b[0m\u001b[0;34m\"Business id: \"\u001b[0m\u001b[0;34m,\u001b[0m \u001b[0mk\u001b[0m\u001b[0;34m)\u001b[0m\u001b[0;34m\u001b[0m\u001b[0m\n\u001b[1;32m      3\u001b[0m     \u001b[0mmenu_size\u001b[0m \u001b[0;34m=\u001b[0m \u001b[0mlen\u001b[0m\u001b[0;34m(\u001b[0m\u001b[0mactual_menus\u001b[0m\u001b[0;34m.\u001b[0m\u001b[0mget\u001b[0m\u001b[0;34m(\u001b[0m\u001b[0mk\u001b[0m\u001b[0;34m,\u001b[0m \u001b[0;34m\"\"\u001b[0m\u001b[0;34m)\u001b[0m\u001b[0;34m)\u001b[0m\u001b[0;34m\u001b[0m\u001b[0m\n\u001b[1;32m      4\u001b[0m     \u001b[0mfuzz_count\u001b[0m \u001b[0;34m=\u001b[0m \u001b[0;36m0\u001b[0m\u001b[0;34m\u001b[0m\u001b[0m\n\u001b[1;32m      5\u001b[0m     \u001b[0msubstr_count\u001b[0m \u001b[0;34m=\u001b[0m \u001b[0;36m0\u001b[0m\u001b[0;34m\u001b[0m\u001b[0m\n",
      "\u001b[0;31mNameError\u001b[0m: name 'actual_menus' is not defined"
     ]
    }
   ],
   "source": [
    "for k in actual_menus.keys():\n",
    "    print(\"Business id: \", k)\n",
    "    menu_size = len(actual_menus.get(k, \"\"))\n",
    "    fuzz_count = 0\n",
    "    substr_count = 0\n",
    "    plain_count = 0 \n",
    "    fuzz_count += len(set(actual_menus.get(k, \"\")) & set(menu_dict_fuzz.get(k, \"\")))\n",
    "    substr_count += len(set(actual_menus.get(k, \"\")) & set(menu_dict.get(k, \"\")))\n",
    "    plain_count += len(set(actual_menus.get(k, \"\")) & set(menu_dict_plain.get(k, \"\")))\n",
    "    print(\"Menu item found with fuzzy match - \", fuzz_count/menu_size*100)\n",
    "    print(\"Menu item found with substring match - \", substr_count/menu_size*100)\n",
    "    print(\"Menu item found with no similiarity match - \", plain_count/menu_size*100)"
   ]
  },
  {
   "cell_type": "markdown",
   "metadata": {},
   "source": [
    "### Top K items"
   ]
  },
  {
   "cell_type": "code",
   "execution_count": 10,
   "metadata": {},
   "outputs": [
    {
     "name": "stdout",
     "output_type": "stream",
     "text": [
      "(35869, 10)\n",
      "(11298, 9)\n"
     ]
    }
   ],
   "source": [
    "import pandas as pd\n",
    "from ast  import literal_eval\n",
    "pred_ann_snt = pd.read_csv(\"predictions_sentence_sentiment.csv\", encoding = 'utf8')\n",
    "pred_ann_snt['entities'] = pred_ann_snt['entities'].apply(literal_eval)\n",
    "pred_ann_snt['len'] = pred_ann_snt['entities'].apply(lambda x: len(x))\n",
    "\n",
    "print(pred_ann_snt.shape)\n",
    "pred_ann_snt.drop(pred_ann_snt[pred_ann_snt.len < 1].index, inplace=True)\n",
    "pred_ann_snt.drop('len',axis= 1, inplace=True)\n",
    "print(pred_ann_snt.shape)\n"
   ]
  },
  {
   "cell_type": "code",
   "execution_count": 11,
   "metadata": {},
   "outputs": [
    {
     "data": {
      "text/html": [
       "<div>\n",
       "<style>\n",
       "    .dataframe thead tr:only-child th {\n",
       "        text-align: right;\n",
       "    }\n",
       "\n",
       "    .dataframe thead th {\n",
       "        text-align: left;\n",
       "    }\n",
       "\n",
       "    .dataframe tbody tr th {\n",
       "        vertical-align: top;\n",
       "    }\n",
       "</style>\n",
       "<table border=\"1\" class=\"dataframe\">\n",
       "  <thead>\n",
       "    <tr style=\"text-align: right;\">\n",
       "      <th></th>\n",
       "      <th>review_id</th>\n",
       "      <th>business_id</th>\n",
       "      <th>entities</th>\n",
       "      <th>vader_sentiment</th>\n",
       "      <th>stars</th>\n",
       "      <th>date</th>\n",
       "    </tr>\n",
       "  </thead>\n",
       "  <tbody>\n",
       "    <tr>\n",
       "      <th>0</th>\n",
       "      <td>1</td>\n",
       "      <td>1118</td>\n",
       "      <td>[(curry, 102, 107)]</td>\n",
       "      <td>negative</td>\n",
       "      <td>3</td>\n",
       "      <td>10/30/18</td>\n",
       "    </tr>\n",
       "    <tr>\n",
       "      <th>1</th>\n",
       "      <td>1</td>\n",
       "      <td>1118</td>\n",
       "      <td>[(channa bhatura curry, 6, 26), (curry, 59, 64)]</td>\n",
       "      <td>positive</td>\n",
       "      <td>3</td>\n",
       "      <td>10/30/18</td>\n",
       "    </tr>\n",
       "    <tr>\n",
       "      <th>2</th>\n",
       "      <td>1</td>\n",
       "      <td>1118</td>\n",
       "      <td>[(soup, 4, 8)]</td>\n",
       "      <td>positive</td>\n",
       "      <td>3</td>\n",
       "      <td>10/30/18</td>\n",
       "    </tr>\n",
       "    <tr>\n",
       "      <th>3</th>\n",
       "      <td>1</td>\n",
       "      <td>1118</td>\n",
       "      <td>[(seemingly, 125, 134)]</td>\n",
       "      <td>positive</td>\n",
       "      <td>3</td>\n",
       "      <td>10/30/18</td>\n",
       "    </tr>\n",
       "    <tr>\n",
       "      <th>4</th>\n",
       "      <td>2</td>\n",
       "      <td>1118</td>\n",
       "      <td>[(cuisine, 31, 38)]</td>\n",
       "      <td>positive</td>\n",
       "      <td>4</td>\n",
       "      <td>10/11/18</td>\n",
       "    </tr>\n",
       "  </tbody>\n",
       "</table>\n",
       "</div>"
      ],
      "text/plain": [
       "   review_id  business_id                                          entities  \\\n",
       "0          1         1118                               [(curry, 102, 107)]   \n",
       "1          1         1118  [(channa bhatura curry, 6, 26), (curry, 59, 64)]   \n",
       "2          1         1118                                    [(soup, 4, 8)]   \n",
       "3          1         1118                           [(seemingly, 125, 134)]   \n",
       "4          2         1118                               [(cuisine, 31, 38)]   \n",
       "\n",
       "  vader_sentiment  stars      date  \n",
       "0        negative      3  10/30/18  \n",
       "1        positive      3  10/30/18  \n",
       "2        positive      3  10/30/18  \n",
       "3        positive      3  10/30/18  \n",
       "4        positive      4  10/11/18  "
      ]
     },
     "execution_count": 11,
     "metadata": {},
     "output_type": "execute_result"
    }
   ],
   "source": [
    "reviews = pd.read_csv(\"all_reviews.csv\")\n",
    "pred_ann_snt = pred_ann_snt.merge(right = reviews, how =\"left\", on = [\"review_id\", \"business_id\"])\n",
    "pred_ann_snt.drop(['compound', 'neg', 'pos', 'neu', 'user_name', 'text','sentence'], axis = 1, inplace=True)\n",
    "pred_ann_snt.head()"
   ]
  },
  {
   "cell_type": "code",
   "execution_count": 3,
   "metadata": {
    "collapsed": true
   },
   "outputs": [],
   "source": [
    "pred_ann_snt['food'] = pred_ann_snt['entities'].apply(lambda x: [a[0] for a in x])\n",
    "pred_ann_snt.drop('entities', axis = 1, inplace = True)"
   ]
  },
  {
   "cell_type": "code",
   "execution_count": 4,
   "metadata": {
    "collapsed": true
   },
   "outputs": [],
   "source": [
    "pred_ann_snt['date'] = pd.to_datetime(pred_ann_snt['date'])\n",
    "pred_ann_snt['today'] = \"12/6/2018\" #today's date\n",
    "pred_ann_snt['today'] = pd.to_datetime(pred_ann_snt['today'])\n",
    "pred_ann_snt['sentiment_score'] = pred_ann_snt['vader_sentiment'].apply(lambda x: 1 if x == \"positive\" else 0)\n",
    "pred_ann_snt['rating'] = pred_ann_snt['stars'].apply(lambda x: 1 if x>3 else 0)\n",
    "pred_ann_snt['recency'] = pred_ann_snt['today'] - pred_ann_snt['date']"
   ]
  },
  {
   "cell_type": "code",
   "execution_count": 5,
   "metadata": {},
   "outputs": [
    {
     "data": {
      "text/html": [
       "<div>\n",
       "<style>\n",
       "    .dataframe thead tr:only-child th {\n",
       "        text-align: right;\n",
       "    }\n",
       "\n",
       "    .dataframe thead th {\n",
       "        text-align: left;\n",
       "    }\n",
       "\n",
       "    .dataframe tbody tr th {\n",
       "        vertical-align: top;\n",
       "    }\n",
       "</style>\n",
       "<table border=\"1\" class=\"dataframe\">\n",
       "  <thead>\n",
       "    <tr style=\"text-align: right;\">\n",
       "      <th></th>\n",
       "      <th>review_id</th>\n",
       "      <th>business_id</th>\n",
       "      <th>food</th>\n",
       "      <th>sentiment_score</th>\n",
       "      <th>rating</th>\n",
       "      <th>recency</th>\n",
       "    </tr>\n",
       "  </thead>\n",
       "  <tbody>\n",
       "    <tr>\n",
       "      <th>0</th>\n",
       "      <td>1</td>\n",
       "      <td>1118</td>\n",
       "      <td>[curry]</td>\n",
       "      <td>0</td>\n",
       "      <td>0</td>\n",
       "      <td>37 days</td>\n",
       "    </tr>\n",
       "    <tr>\n",
       "      <th>1</th>\n",
       "      <td>1</td>\n",
       "      <td>1118</td>\n",
       "      <td>[channa bhatura curry, curry]</td>\n",
       "      <td>1</td>\n",
       "      <td>0</td>\n",
       "      <td>37 days</td>\n",
       "    </tr>\n",
       "    <tr>\n",
       "      <th>2</th>\n",
       "      <td>1</td>\n",
       "      <td>1118</td>\n",
       "      <td>[soup]</td>\n",
       "      <td>1</td>\n",
       "      <td>0</td>\n",
       "      <td>37 days</td>\n",
       "    </tr>\n",
       "    <tr>\n",
       "      <th>3</th>\n",
       "      <td>1</td>\n",
       "      <td>1118</td>\n",
       "      <td>[seemingly]</td>\n",
       "      <td>1</td>\n",
       "      <td>0</td>\n",
       "      <td>37 days</td>\n",
       "    </tr>\n",
       "    <tr>\n",
       "      <th>4</th>\n",
       "      <td>2</td>\n",
       "      <td>1118</td>\n",
       "      <td>[cuisine]</td>\n",
       "      <td>1</td>\n",
       "      <td>1</td>\n",
       "      <td>56 days</td>\n",
       "    </tr>\n",
       "  </tbody>\n",
       "</table>\n",
       "</div>"
      ],
      "text/plain": [
       "   review_id  business_id                           food  sentiment_score  \\\n",
       "0          1         1118                        [curry]                0   \n",
       "1          1         1118  [channa bhatura curry, curry]                1   \n",
       "2          1         1118                         [soup]                1   \n",
       "3          1         1118                    [seemingly]                1   \n",
       "4          2         1118                      [cuisine]                1   \n",
       "\n",
       "   rating recency  \n",
       "0       0 37 days  \n",
       "1       0 37 days  \n",
       "2       0 37 days  \n",
       "3       0 37 days  \n",
       "4       1 56 days  "
      ]
     },
     "execution_count": 5,
     "metadata": {},
     "output_type": "execute_result"
    }
   ],
   "source": [
    "pred_ann_snt.drop(['vader_sentiment', 'stars', 'date','today'], axis = 1, inplace = True)\n",
    "pred_ann_snt.head()"
   ]
  },
  {
   "cell_type": "code",
   "execution_count": 6,
   "metadata": {
    "collapsed": true
   },
   "outputs": [],
   "source": [
    "s = pred_ann_snt.apply(lambda x: pd.Series(x['food']),axis=1).stack().reset_index(level=1, drop=True)\n",
    "s.name = 'dish'\n",
    "scored_df = pred_ann_snt.drop('food', axis=1).join(s)"
   ]
  },
  {
   "cell_type": "code",
   "execution_count": 7,
   "metadata": {
    "collapsed": true
   },
   "outputs": [],
   "source": [
    "import math\n",
    "lambda_val = 0\n",
    "scored_df['score'] = (scored_df['sentiment_score']+scored_df['rating'])/2\n",
    "# scored_df['recency'] = pd.to_numeric(scored_df['recency'])\n",
    "scored_df['score_1'] = scored_df['recency'].apply(lambda x: math.exp(-lambda_val*x.days))\n",
    "scored_df['score'] = scored_df['score']*scored_df['score_1']"
   ]
  },
  {
   "cell_type": "code",
   "execution_count": 8,
   "metadata": {},
   "outputs": [
    {
     "data": {
      "text/plain": [
       "196         pepper shrimp\n",
       "196    incredible chicken\n",
       "196          pork curries\n",
       "Name: dish, dtype: object"
      ]
     },
     "execution_count": 8,
     "metadata": {},
     "output_type": "execute_result"
    }
   ],
   "source": [
    "scored_df['dish'][196]"
   ]
  },
  {
   "cell_type": "code",
   "execution_count": 9,
   "metadata": {
    "collapsed": true
   },
   "outputs": [],
   "source": [
    "new_df = scored_df.groupby(['business_id', 'dish']).agg({'score':'sum'}).reset_index()"
   ]
  },
  {
   "cell_type": "code",
   "execution_count": 34,
   "metadata": {
    "scrolled": true
   },
   "outputs": [
    {
     "data": {
      "text/plain": [
       "(6263, 4)"
      ]
     },
     "execution_count": 34,
     "metadata": {},
     "output_type": "execute_result"
    }
   ],
   "source": [
    "new_df.shape"
   ]
  },
  {
   "cell_type": "code",
   "execution_count": 42,
   "metadata": {},
   "outputs": [
    {
     "name": "stdout",
     "output_type": "stream",
     "text": [
      "chowder & lobster newburg\n",
      "chowder abraham\n",
      "chowder aged ribeye\n",
      "chowder aioli\n",
      "chowder alas\n",
      "chowder apple\n",
      "chowder argula\n",
      "chowder asparagus\n",
      "chowder bacon\n",
      "chowder bacon fried rice anddelmonicopotatoes\n",
      "chowder bacon mishap\n",
      "chowder bacon relish\n",
      "chowder baked\n",
      "chowder baked broccoli\n",
      "chowder banana flavored cake\n",
      "chowder banana gelato\n",
      "chowder banana ice cream\n",
      "chowder banana sorbet\n",
      "chowder bang\n",
      "chowder bbq\n",
      "chowder bearnaise sauce\n",
      "chowder because lobster\n",
      "chowder beef cheek\n",
      "chowder beef short ribs\n",
      "chowder beefsteak tomato\n",
      "chowder beers\n",
      "chowder beets\n",
      "chowder belly\n",
      "chowder berries\n",
      "chowder bestowed\n",
      "chowder beststeakswe\n",
      "chowder bettereggsbenedict\n",
      "chowder bisque\n",
      "chowder bitter rubbery garbage\n",
      "chowder black\n",
      "chowder black sea bass with\n",
      "chowder black shirts\n",
      "chowder black vests\n",
      "chowder blue cheese\n",
      "chowder blueberry\n",
      "chowder blueberry pie\n",
      "chowder bolognese sauce\n",
      "chowder bone marrow\n",
      "chowder bordeaux\n",
      "chowder bottom\n",
      "chowder braised ribs\n",
      "chowder braised short ribs\n",
      "chowder bread\n",
      "chowder bread basket\n",
      "chowder break\n",
      "chowder brings\n",
      "chowder broccoli\n",
      "chowder brulee\n",
      "chowder buck\n",
      "chowder buffalo mozzarella\n",
      "chowder buffalo mozzarella & yellow beefsteak tomato\n",
      "chowder burger beers\n",
      "chowder burgers\n",
      "chowder buried\n",
      "chowder burned meringue\n",
      "chowder burnt\n",
      "chowder burrata salad\n",
      "chowder bussers\n",
      "chowder butter\n",
      "chowder buttermilk blue cheese\n",
      "chowder butternut squash\n",
      "chowder buttery garlic toast\n",
      "chowder cake\n",
      "chowder cake biscuit\n",
      "chowder calamari\n",
      "chowder calories\n",
      "chowder cane\n",
      "chowder cappuccinos\n",
      "chowder carrot\n",
      "chowder carrots\n",
      "chowder caucasian\n",
      "chowder cauliflower\n",
      "chowder caviar\n",
      "chowder cesar salad\n",
      "chowder chanterelles\n",
      "chowder char\n",
      "chowder charles\n",
      "chowder cheek & bone\n",
      "chowder cheek meat\n",
      "chowder cheese\n",
      "chowder cheese cake\n",
      "chowder cheesecake\n",
      "chowder cheesesteak\n",
      "chowder cheesy cream sauce\n",
      "chowder chicken\n",
      "chowder chilled soup\n",
      "chowder chips\n",
      "chowder chocolate\n",
      "chowder chocolate cake\n",
      "chowder chocolate hazelnut cake\n",
      "chowder chocolate mousse\n",
      "chowder chocolate mousse cake\n",
      "chowder chocolate mousse cake starsfluffy\n",
      "chowder chocolate peanut butter\n",
      "chowder chocolate peanut butter mousse\n",
      "chowder chowder\n",
      "chowder classic baked\n",
      "chowder classic steak supplement\n",
      "chowder cocktails\n",
      "chowder cocoa krispies cereal\n",
      "chowder coffee\n",
      "chowder common mushroom\n",
      "chowder contrast\n",
      "chowder coors\n",
      "chowder corn\n",
      "chowder country\n",
      "chowder coupled\n",
      "chowder coworkers\n",
      "chowder crab\n",
      "chowder crab cake\n",
      "chowder crab cakes\n",
      "chowder craft beers\n",
      "chowder cream\n",
      "chowder creamed spinach\n",
      "chowder creation\n",
      "chowder creme\n",
      "chowder cremini\n",
      "chowder crisp sear\n",
      "chowder crispy alebattered onion rings\n",
      "chowder crispy bits\n",
      "chowder crispy bone marrow\n",
      "chowder crispy onions\n",
      "chowder crispy oyster\n",
      "chowder crispy oyster jim\n",
      "chowder crispy oysters\n",
      "chowder crispy string\n",
      "chowder crumby\n",
      "chowder crunchy\n",
      "chowder cuisine\n",
      "chowder cuts\n",
      "chowder dark chocolate mousse cake\n",
      "chowder day aged ribeye\n",
      "chowder day draged bone\n",
      "chowder day dryaged bonein rib eye delmonico steak\n",
      "chowder day dryaged prime ribeye\n",
      "chowder day dryaged prime ribeye steak\n",
      "chowder delmonico salad candied walnuts\n",
      "chowder delmonicopotatoes\n",
      "chowder delmonicos signature steak\n",
      "chowder delmonicos steak andbraisedshortribs\n",
      "chowder delmonicos streak\n",
      "chowder dessert cheesecake\n",
      "chowder desserts\n",
      "chowder discount\n",
      "chowder dried chicken\n",
      "chowder egg\n",
      "chowder eggs benedict\n",
      "chowder eggsbenedict\n",
      "chowder farm beef cheek\n",
      "chowder fearless french\n",
      "chowder filet anddelmonicosteak\n",
      "chowder filet mignon\n",
      "chowder filet mignon anddelmonicosteak\n",
      "chowder fillet mignon\n",
      "chowder foie gras\n",
      "chowder french fries\n",
      "chowder fried onion garnish\n",
      "chowder fries\n",
      "chowder frizee salad\n",
      "chowder frizzled onions\n",
      "chowder fruit\n",
      "chowder garlic\n",
      "chowder garlic and lemon\n",
      "chowder garlic mash\n",
      "chowder giovanni\n",
      "chowder grapefruit\n",
      "chowder greens\n",
      "chowder grilled asparagus\n",
      "chowder grilled broccoli\n",
      "chowder grilled filet mignon\n",
      "chowder group\n",
      "chowder guac\n",
      "chowder guacamole\n",
      "chowder gulf shrimp\n",
      "chowder ham\n",
      "chowder hash browns\n",
      "chowder head\n",
      "chowder heritage pig bolognese\n",
      "chowder hollandaise sauce\n",
      "chowder housecured bacon\n",
      "chowder ice cream\n",
      "chowder journey\n",
      "chowder king crab\n",
      "chowder lamb\n",
      "chowder lamb chops\n",
      "chowder lead\n",
      "chowder lemon\n",
      "chowder lemon cheesecake\n",
      "chowder lemon juice\n",
      "chowder lentil soup\n",
      "chowder lighter sauce\n",
      "chowder lobster\n",
      "chowder lobster bisque\n",
      "chowder lobster newberg\n",
      "chowder lobster newburg\n",
      "chowder lobster tail\n",
      "chowder lugers\n",
      "chowder luke\n",
      "chowder mac and cheese\n",
      "chowder mac n cheese\n",
      "chowder manhattan clam chowder\n",
      "chowder marrow\n",
      "chowder mash potatoes\n",
      "chowder mashed potato\n",
      "chowder mashed potatoes\n",
      "chowder meat\n",
      "chowder meats\n",
      "chowder mignon\n",
      "chowder mild\n",
      "chowder mine\n",
      "chowder mousse cake\n",
      "chowder mushroom\n",
      "chowder mushroom lemon sauce\n",
      "chowder mushroom sauce\n",
      "chowder naked ravioli\n",
      "chowder namesake potatoes\n",
      "chowder nearblack chocolate\n",
      "chowder new york cheesecake\n",
      "chowder new york style cheesecake\n",
      "chowder offers\n",
      "chowder oil paintings\n",
      "chowder onedelmonicosteak\n",
      "chowder onion\n",
      "chowder onion rings\n",
      "chowder onions\n",
      "chowder orange\n",
      "chowder orange roe\n",
      "chowder others\n",
      "chowder oven\n",
      "chowder overcooked\n",
      "chowder oyster\n",
      "chowder oysters\n",
      "chowder paintings\n",
      "chowder pan roasted halibut\n",
      "chowder pan roasted scallops\n",
      "chowder panna cotta\n",
      "chowder parbaked bread rolls\n",
      "chowder parmesan\n",
      "chowder passion fruit sauce\n",
      "chowder pasta\n",
      "chowder peanut butter\n",
      "chowder peanut butter chocolate mousse cake\n",
      "chowder peas\n",
      "chowder peppers\n",
      "chowder petitefiletmignon\n",
      "chowder petitfiletmignon starstender\n",
      "chowder pieces\n",
      "chowder pig\n",
      "chowder poivre sauce\n",
      "chowder poke\n",
      "chowder potato\n",
      "chowder potato salad\n",
      "chowder potatoes\n",
      "chowder potatoes lamb\n",
      "chowder potatoes lobster newburg chicken\n",
      "chowder potatoes roasted button\n",
      "chowder pound lobster\n",
      "chowder pound steak\n",
      "chowder prime\n",
      "chowder prime boneless ribeye steak\n",
      "chowder profiterole\n",
      "chowder profiteroles\n",
      "chowder ravioli\n",
      "chowder regulardelmonicosteak\n",
      "chowder renowned\n",
      "chowder reservefiletmignon\n",
      "chowder rib eye\n",
      "chowder rib eye and\n",
      "chowder rib eye steak\n",
      "chowder ribeye\n",
      "chowder ribeye steak\n",
      "chowder rigatoni pasta\n",
      "chowder roaches\n",
      "chowder roasted beet\n",
      "chowder roasted carrots\n",
      "chowder roasted cauliflower\n",
      "chowder roasted onionsapple soubise sauce\n",
      "chowder roasted sirloin\n",
      "chowder roasted vegetables\n",
      "chowder round toasted\n",
      "chowder salad\n",
      "chowder salmon\n",
      "chowder salted caramel sauce\n",
      "chowder sambuca white\n",
      "chowder sandwich\n",
      "chowder sauce\n",
      "chowder sauce provided\n",
      "chowder sauces\n",
      "chowder scallop\n",
      "chowder scallops\n",
      "chowder seasonal soup gazpacho\n",
      "chowder shirts\n",
      "chowder short ribs\n",
      "chowder shrimp\n",
      "chowder shrimp russia\n",
      "chowder signaturedelmonicosteak\n",
      "chowder sirloin steak\n",
      "chowder slab\n",
      "chowder smoked meat\n",
      "chowder soda bread\n",
      "chowder soup\n",
      "chowder spicy chicken\n",
      "chowder spinach\n",
      "chowder spirits\n",
      "chowder sponge cake\n",
      "chowder spoon glided\n",
      "chowder spread\n",
      "chowder steak\n",
      "chowder steak sauce\n",
      "chowder steaks\n",
      "chowder stoeffers\n",
      "chowder strawberry compote\n",
      "chowder stretch white jeggings\n",
      "chowder tendersteak\n",
      "chowder texas de brazil\n",
      "chowder toasted\n",
      "chowder tomato salad\n",
      "chowder tomatoes\n",
      "chowder toppings\n",
      "chowder truffle\n",
      "chowder truffle oil\n",
      "chowder vanilla\n",
      "chowder vanilla ice cream\n",
      "chowder vodka\n",
      "chowder walnut\n",
      "chowder walnut cake\n",
      "chowder west coast oysters\n",
      "chowder west coast selection\n",
      "chowder whipped mash potatoes\n",
      "chowder whipped potatoes\n",
      "chowder white\n",
      "chowder white cake\n",
      "chowder white cream\n",
      "chowder white males\n",
      "chowder wild mushrooms\n",
      "chowder wine\n",
      "chowder yellow\n"
     ]
    },
    {
     "name": "stderr",
     "output_type": "stream",
     "text": [
      "/anaconda3/lib/python3.6/site-packages/ipykernel_launcher.py:16: SettingWithCopyWarning: \n",
      "A value is trying to be set on a copy of a slice from a DataFrame.\n",
      "Try using .loc[row_indexer,col_indexer] = value instead\n",
      "\n",
      "See the caveats in the documentation: http://pandas.pydata.org/pandas-docs/stable/indexing.html#indexing-view-versus-copy\n",
      "  app.launch_new_instance()\n"
     ]
    }
   ],
   "source": [
    "rest_1111 = new_df[new_df['business_id'] == 1111]\n",
    "\n",
    "def sim(x):\n",
    "    food_list = menu_dict_fuzz.get(x['business_id'], \"\")\n",
    "#     print(x['business_id'], food_list[-10:])\n",
    "    for item in food_list:\n",
    "        print(item, x['dish'])\n",
    "        if((fuzz.ratio(item, x['dish']) > 70) & (item!= x['dish'])):\n",
    "            if len(item) > len(x['dish']):\n",
    "                return item\n",
    "            elif len(x['dish']) > len(item):\n",
    "                return x['dish']\n",
    "        else:\n",
    "            return \"Not replaced!\"\n",
    "\n",
    "rest_1111['sim_dish'] = rest_1111.apply(sim, axis=1)"
   ]
  },
  {
   "cell_type": "code",
   "execution_count": 36,
   "metadata": {},
   "outputs": [
    {
     "data": {
      "text/html": [
       "<div>\n",
       "<style>\n",
       "    .dataframe thead tr:only-child th {\n",
       "        text-align: right;\n",
       "    }\n",
       "\n",
       "    .dataframe thead th {\n",
       "        text-align: left;\n",
       "    }\n",
       "\n",
       "    .dataframe tbody tr th {\n",
       "        vertical-align: top;\n",
       "    }\n",
       "</style>\n",
       "<table border=\"1\" class=\"dataframe\">\n",
       "  <thead>\n",
       "    <tr style=\"text-align: right;\">\n",
       "      <th></th>\n",
       "      <th>business_id</th>\n",
       "      <th>dish</th>\n",
       "      <th>score</th>\n",
       "      <th>sim_dish</th>\n",
       "    </tr>\n",
       "  </thead>\n",
       "  <tbody>\n",
       "    <tr>\n",
       "      <th>204</th>\n",
       "      <td>1111</td>\n",
       "      <td>mac n cheese</td>\n",
       "      <td>2.0</td>\n",
       "      <td>Not replaced!</td>\n",
       "    </tr>\n",
       "    <tr>\n",
       "      <th>3088</th>\n",
       "      <td>1124</td>\n",
       "      <td>mac n cheese</td>\n",
       "      <td>1.0</td>\n",
       "      <td>Not replaced!</td>\n",
       "    </tr>\n",
       "    <tr>\n",
       "      <th>5315</th>\n",
       "      <td>1129</td>\n",
       "      <td>mac n cheese</td>\n",
       "      <td>12.0</td>\n",
       "      <td>Not replaced!</td>\n",
       "    </tr>\n",
       "  </tbody>\n",
       "</table>\n",
       "</div>"
      ],
      "text/plain": [
       "      business_id          dish  score       sim_dish\n",
       "204          1111  mac n cheese    2.0  Not replaced!\n",
       "3088         1124  mac n cheese    1.0  Not replaced!\n",
       "5315         1129  mac n cheese   12.0  Not replaced!"
      ]
     },
     "execution_count": 36,
     "metadata": {},
     "output_type": "execute_result"
    }
   ],
   "source": [
    "new_df[new_df['dish'] == 'mac n cheese']"
   ]
  },
  {
   "cell_type": "code",
   "execution_count": 44,
   "metadata": {},
   "outputs": [
    {
     "name": "stdout",
     "output_type": "stream",
     "text": [
      "After match!\n",
      "1118 165\n",
      "1116 238\n",
      "1120 414\n",
      "1117 185\n",
      "1119 200\n",
      "1126 677\n",
      "1127 377\n",
      "1128 637\n",
      "1129 229\n",
      "1130 860\n",
      "1122 240\n",
      "1121 123\n",
      "1123 241\n",
      "1124 238\n",
      "1125 291\n",
      "1111 308\n",
      "1112 145\n",
      "1113 231\n",
      "1114 146\n",
      "1115 284\n"
     ]
    }
   ],
   "source": [
    "for k in [1111]:\n",
    "    menu = menu_dict_fuzz.get(k, \"\")\n",
    "#     print(len(menu))\n",
    "    for item1 in menu:\n",
    "        for item2 in menu:\n",
    "            if fuzz.ratio(item1,item2)  > 85 and item1 != item2:\n",
    "                print(item1,\" , \", item2, \" score = \", fuzz.ratio(item1, item2))\n",
    "                if len(item1) > len(item2):\n",
    "                    if item2 in menu:\n",
    "                        menu.remove(item2)\n",
    "                elif len(item2) > len(item1):\n",
    "                    if item1 in menu:\n",
    "                        menu.remove(item1)\n",
    "    menu_dict_fuzz[k] = menu\n",
    "\n",
    "print(\"After match!\")\n",
    "for k in menu_dict_fuzz.keys():\n",
    "    print(k, len(menu_dict_fuzz.get(k, \"\")))"
   ]
  }
 ],
 "metadata": {
  "kernelspec": {
   "display_name": "Python 3",
   "language": "python",
   "name": "python3"
  },
  "language_info": {
   "codemirror_mode": {
    "name": "ipython",
    "version": 3
   },
   "file_extension": ".py",
   "mimetype": "text/x-python",
   "name": "python",
   "nbconvert_exporter": "python",
   "pygments_lexer": "ipython3",
   "version": "3.6.3"
  }
 },
 "nbformat": 4,
 "nbformat_minor": 2
}
