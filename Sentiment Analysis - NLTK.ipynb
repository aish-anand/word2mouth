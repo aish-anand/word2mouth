{
 "cells": [
  {
   "cell_type": "markdown",
   "metadata": {},
   "source": [
    "# Sentiment Analysis - NLTK - Vader"
   ]
  },
  {
   "cell_type": "markdown",
   "metadata": {},
   "source": [
    "#### Some background : http://t-redactyl.io/blog/2017/04/using-vader-to-handle-sentiment-analysis-with-social-media-text.html; Paper for reference : http://comp.social.gatech.edu/papers/icwsm14.vader.hutto.pdf"
   ]
  },
  {
   "cell_type": "code",
   "execution_count": 6,
   "metadata": {},
   "outputs": [
    {
     "name": "stderr",
     "output_type": "stream",
     "text": [
      "C:\\Users\\Admin\\Anaconda2\\envs\\py36\\lib\\site-packages\\nltk\\twitter\\__init__.py:20: UserWarning: The twython library has not been installed. Some functionality from the twitter package will not be available.\n",
      "  warnings.warn(\"The twython library has not been installed. \"\n"
     ]
    }
   ],
   "source": [
    "import nltk\n",
    "from nltk.classify import NaiveBayesClassifier\n",
    "from nltk.corpus import subjectivity\n",
    "from nltk.sentiment import SentimentAnalyzer\n",
    "from nltk.sentiment.util import *\n",
    "from nltk.sentiment.vader import SentimentIntensityAnalyzer"
   ]
  },
  {
   "cell_type": "code",
   "execution_count": null,
   "metadata": {
    "collapsed": true
   },
   "outputs": [],
   "source": [
    "sentences = [\"VADER is smart, handsome, and funny.\", # positive sentence example\n",
    "    \"VADER is smart, handsome, and funny!\", # punctuation emphasis handled correctly (sentiment intensity adjusted)\n",
    "    \"VADER is very smart, handsome, and funny.\",  # booster words handled correctly (sentiment intensity adjusted)\n",
    "    \"VADER is VERY SMART, handsome, and FUNNY.\",  # emphasis for ALLCAPS handled\n",
    "    \"VADER is VERY SMART, handsome, and FUNNY!!!\",# combination of signals - VADER appropriately adjusts intensity\n",
    "    \"VADER is VERY SMART, really handsome, and INCREDIBLY FUNNY!!!\",# booster words & punctuation make this close to ceiling for score\n",
    "    \"The book was good.\",         # positive sentence\n",
    "    \"The book was kind of good.\", # qualified positive sentence is handled correctly (intensity adjusted)\n",
    "    \"The plot was good, but the characters are uncompelling and the dialog is not great.\", # mixed negation sentence\n",
    "    \"A really bad, horrible book.\",       # negative sentence with booster words\n",
    "    \"At least it isn't a horrible book.\", # negated negative sentence with contraction\n",
    "    \":) and :D\",     # emoticons handled\n",
    "    \"\",              # an empty string is correctly handled\n",
    "    \"Today sux\",     #  negative slang handled\n",
    "    \"Today sux!\",    #  negative slang with punctuation emphasis handled\n",
    "    \"Today SUX!\",    #  negative slang with capitalization emphasis\n",
    "    \"Today kinda sux! But I'll get by, lol\" # mixed sentiment example with slang and constrastive conjunction \"but\"\n",
    " ]"
   ]
  },
  {
   "cell_type": "code",
   "execution_count": null,
   "metadata": {
    "collapsed": true
   },
   "outputs": [],
   "source": [
    "#can handle passages\n",
    "paragraph = \"It was one of the worst movies I've seen, despite good reviews.\\\n",
    "Unbelievably bad acting!! Poor direction. VERY poor production. \\\n",
    "The movie was bad. Very bad movie. VERY bad movie. VERY BAD movie. VERY BAD movie!\"\n",
    "\n",
    "from nltk import tokenize\n",
    "lines_list = tokenize.sent_tokenize(paragraph)\n",
    "sentences.extend(lines_list)"
   ]
  },
  {
   "cell_type": "code",
   "execution_count": null,
   "metadata": {
    "collapsed": true,
    "scrolled": true
   },
   "outputs": [],
   "source": [
    "sid = SentimentIntensityAnalyzer()\n",
    "for sentence in sentences:\n",
    "    print(sentence)\n",
    "    ss = sid.polarity_scores(sentence)\n",
    "    for k in sorted(ss):\n",
    "        print('{0}: {1}, '.format(k, ss[k]), end='')\n",
    "        print()"
   ]
  },
  {
   "cell_type": "markdown",
   "metadata": {},
   "source": [
    "## Our review data"
   ]
  },
  {
   "cell_type": "markdown",
   "metadata": {},
   "source": [
    "#### Hand annotated a few sentences, ideally we should have atleast a 100 sentences. (Which shouldn't be too hard!)"
   ]
  },
  {
   "cell_type": "code",
   "execution_count": null,
   "metadata": {
    "collapsed": true
   },
   "outputs": [],
   "source": [
    "import pandas as pd\n",
    "reviews = pd.read_csv(\"sentiment_test.csv\")\n",
    "reviews.shape"
   ]
  },
  {
   "cell_type": "code",
   "execution_count": null,
   "metadata": {
    "collapsed": true
   },
   "outputs": [],
   "source": [
    "def get_polarity(sentence):\n",
    "    pol_score = sid.polarity_scores(sentence)\n",
    "    return pol_score\n",
    "    \n",
    "reviews['vader_polarity'] = reviews['sentence'].apply(get_polarity)"
   ]
  },
  {
   "cell_type": "markdown",
   "metadata": {},
   "source": [
    "#### the compound score is normalized and ranges from -1 to +1, we will call all scores between [-1, -0.25] as neg, (-0.25, 0.25) as neutral, and [0.25, 1] as positive. "
   ]
  },
  {
   "cell_type": "code",
   "execution_count": null,
   "metadata": {
    "collapsed": true,
    "scrolled": true
   },
   "outputs": [],
   "source": [
    "pol_cols_df = reviews['vader_polarity'].apply(pd.Series)\n",
    "reviews_final = pd.concat([reviews, pol_cols_df], axis = 1).drop('vader_polarity', axis = 1)\n",
    "reviews_final['vader_sentiment'] = reviews_final['compound'].apply(lambda x: \"positive\" if x>=0 else \"negative\")"
   ]
  },
  {
   "cell_type": "code",
   "execution_count": null,
   "metadata": {},
   "outputs": [],
   "source": [
    "reviews_final[reviews_final[\"sentiment\"] != reviews_final[\"vader_sentiment\"]]"
   ]
  },
  {
   "cell_type": "markdown",
   "metadata": {},
   "source": [
    "### Acc = 0.7931"
   ]
  },
  {
   "cell_type": "code",
   "execution_count": 9,
   "metadata": {},
   "outputs": [
    {
     "data": {
      "text/html": [
       "<div>\n",
       "<style>\n",
       "    .dataframe thead tr:only-child th {\n",
       "        text-align: right;\n",
       "    }\n",
       "\n",
       "    .dataframe thead th {\n",
       "        text-align: left;\n",
       "    }\n",
       "\n",
       "    .dataframe tbody tr th {\n",
       "        vertical-align: top;\n",
       "    }\n",
       "</style>\n",
       "<table border=\"1\" class=\"dataframe\">\n",
       "  <thead>\n",
       "    <tr style=\"text-align: right;\">\n",
       "      <th></th>\n",
       "      <th>review_id</th>\n",
       "      <th>business_id</th>\n",
       "      <th>entities</th>\n",
       "      <th>sentence</th>\n",
       "    </tr>\n",
       "  </thead>\n",
       "  <tbody>\n",
       "    <tr>\n",
       "      <th>0</th>\n",
       "      <td>1</td>\n",
       "      <td>1118</td>\n",
       "      <td>[]</td>\n",
       "      <td>this dosa location has a very romantic, upscal...</td>\n",
       "    </tr>\n",
       "    <tr>\n",
       "      <th>1</th>\n",
       "      <td>1</td>\n",
       "      <td>1118</td>\n",
       "      <td>[]</td>\n",
       "      <td>unfortunately, i do not find their food to ref...</td>\n",
       "    </tr>\n",
       "    <tr>\n",
       "      <th>2</th>\n",
       "      <td>1</td>\n",
       "      <td>1118</td>\n",
       "      <td>[('curry', 102, 107)]</td>\n",
       "      <td>we appreciated their listing of allergens on t...</td>\n",
       "    </tr>\n",
       "    <tr>\n",
       "      <th>3</th>\n",
       "      <td>1</td>\n",
       "      <td>1118</td>\n",
       "      <td>[]</td>\n",
       "      <td>we ordered vegan chutney sampler</td>\n",
       "    </tr>\n",
       "    <tr>\n",
       "      <th>4</th>\n",
       "      <td>1</td>\n",
       "      <td>1118</td>\n",
       "      <td>[]</td>\n",
       "      <td>the variety of five chutneys was good, but i d...</td>\n",
       "    </tr>\n",
       "  </tbody>\n",
       "</table>\n",
       "</div>"
      ],
      "text/plain": [
       "   review_id  business_id               entities  \\\n",
       "0          1         1118                     []   \n",
       "1          1         1118                     []   \n",
       "2          1         1118  [('curry', 102, 107)]   \n",
       "3          1         1118                     []   \n",
       "4          1         1118                     []   \n",
       "\n",
       "                                            sentence  \n",
       "0  this dosa location has a very romantic, upscal...  \n",
       "1  unfortunately, i do not find their food to ref...  \n",
       "2  we appreciated their listing of allergens on t...  \n",
       "3                   we ordered vegan chutney sampler  \n",
       "4  the variety of five chutneys was good, but i d...  "
      ]
     },
     "execution_count": 9,
     "metadata": {},
     "output_type": "execute_result"
    }
   ],
   "source": [
    "import pandas as pd\n",
    "annotations = pd.read_csv(\"predictions_sentence.csv\")\n",
    "annotations.head()"
   ]
  },
  {
   "cell_type": "code",
   "execution_count": 10,
   "metadata": {
    "collapsed": true
   },
   "outputs": [],
   "source": [
    "annotations[annotations[\"entities\"] != \"[]\"].sample(n=70).to_csv(\"sentiment_test_1.csv\", index = False)"
   ]
  },
  {
   "cell_type": "code",
   "execution_count": 13,
   "metadata": {},
   "outputs": [],
   "source": [
    "sid = sid = SentimentIntensityAnalyzer()\n",
    "annotations['sentence'] = annotations['sentence'].astype('str')\n",
    "annotations['vader_polarity'] = annotations['sentence'].apply(lambda x: sid.polarity_scores(x))\n",
    "pol_cols_df = annotations['vader_polarity'].apply(pd.Series)\n",
    "annotations_final = pd.concat([annotations, pol_cols_df], axis = 1).drop('vader_polarity', axis = 1)\n",
    "annotations_final['vader_sentiment'] = annotations_final['compound'].apply(lambda x: \"positive\" if x>=0 else \"negative\")"
   ]
  },
  {
   "cell_type": "code",
   "execution_count": 16,
   "metadata": {},
   "outputs": [],
   "source": [
    "annotations_final.to_csv(\"predictions_sentence_sentiment.csv\", index = False, encoding='utf8')"
   ]
  },
  {
   "cell_type": "markdown",
   "metadata": {},
   "source": [
    "## LR Sentiment Analysis"
   ]
  },
  {
   "cell_type": "code",
   "execution_count": null,
   "metadata": {
    "collapsed": true
   },
   "outputs": [],
   "source": [
    "from nltk.classify import NaiveBayesClassifier\n",
    "from nltk.corpus import subjectivity\n",
    "from nltk.sentiment import SentimentAnalyzer\n",
    "from nltk.sentiment.util import *\n",
    "n_instances = 100\n",
    "\n",
    "subj_docs = [(sent, 'subj') for sent in subjectivity.sents(categories='subj')[:n_instances]]\n",
    "print(subj_docs)\n",
    "obj_docs = [(sent, 'obj') for sent in subjectivity.sents(categories='obj')[:n_instances]]\n",
    "# pos_docs = [(sent, 'subj') for sent in subjectivity.sents(categories='subj')[:n_instances]]\n",
    "# neg_docs = [(sent, 'obj') for sent in subjectivity.sents(categories='obj')[:n_instances]]\n",
    "print(len(subj_docs), len(obj_docs))\n",
    "(100, 100)\n",
    "#Each document is represented by a tuple (sentence, label). The sentence is tokenized, so it is represented by a list of strings:\n",
    "\n",
    "print(subj_docs[0])\n",
    "#(['smart', 'and', 'alert', ',', 'thirteen', 'conversations', 'about', 'one',\n",
    "#'thing', 'is', 'a', 'small', 'gem', '.'], 'subj')\n",
    "#We separately split subjective and objective instances to keep a balanced uniform class distribution in both train and test sets.\n",
    "\n",
    "train_subj_docs = subj_docs[:80]\n",
    "test_subj_docs = subj_docs[80:100]\n",
    "train_obj_docs = obj_docs[:80]\n",
    "test_obj_docs = obj_docs[80:100]\n",
    "training_docs = train_subj_docs+train_obj_docs\n",
    "testing_docs = test_subj_docs+test_obj_docs\n",
    "sentim_analyzer = SentimentAnalyzer()\n",
    "all_words_neg = sentim_analyzer.all_words([mark_negation(doc) for doc in training_docs])\n",
    "#We use simple unigram word features, handling negation:\n",
    "\n",
    "unigram_feats = sentim_analyzer.unigram_word_feats(all_words_neg, min_freq=4)\n",
    "print(len(unigram_feats))\n",
    "#83\n",
    "sentim_analyzer.add_feat_extractor(extract_unigram_feats, unigrams=unigram_feats)\n",
    "#We apply features to obtain a feature-value representation of our datasets:\n",
    "\n",
    "training_set = sentim_analyzer.apply_features(training_docs)\n",
    "test_set = sentim_analyzer.apply_features(testing_docs)\n",
    "#We can now train our classifier on the training set, and subsequently output the evaluation results:\n",
    "\n",
    "trainer = NaiveBayesClassifier.train\n",
    "classifier = sentim_analyzer.train(trainer, training_set)\n",
    "# Training classifier\n",
    "for key,value in sorted(sentim_analyzer.evaluate(test_set).items()):\n",
    "    print('{0}: {1}'.format(key, value))\n",
    "# Evaluating NaiveBayesClassifier results...\n",
    "# Accuracy: 0.8\n",
    "# F-measure [obj]: 0.8\n",
    "# F-measure [subj]: 0.8\n",
    "# Precision [obj]: 0.8\n",
    "# Precision [subj]: 0.8\n",
    "# Recall [obj]: 0.8\n",
    "# Recall [subj]: 0.8"
   ]
  },
  {
   "cell_type": "code",
   "execution_count": null,
   "metadata": {
    "collapsed": true
   },
   "outputs": [],
   "source": [
    "import nltk\n",
    "from nltk.classify import NaiveBayesClassifier\n",
    "import os\n",
    "from random import shuffle\n",
    "import csv\n",
    "from nltk.classify.util import accuracy\n",
    "from nltk.tokenize import word_tokenize\n",
    "from nltk.corpus import movie_reviews\n",
    "\n",
    "\n",
    "\n",
    "# for input to \n",
    "def format_sentence(sent):\n",
    "    return({word: True for word in nltk.word_tokenize(sent)})\n",
    "def create_word_features(words):\n",
    "    useful_words = [word for word in words]\n",
    "    my_dict = dict([(word, True) for word in useful_words])\n",
    "    return my_dict\n",
    "\n",
    "\n",
    "#using the movie review corpus \n",
    "neg_reviews = []\n",
    "for fileid in movie_reviews.fileids('neg'):\n",
    "    words = movie_reviews.words(fileid)\n",
    "    neg_reviews.append((create_word_features(words), \"negative\"))\n",
    "print(len(neg_reviews))\n",
    "\n",
    "pos_reviews = []\n",
    "for fileid in movie_reviews.fileids('pos'):\n",
    "    words = movie_reviews.words(fileid)\n",
    "    pos_reviews.append((create_word_features(words), \"positive\"))\n",
    "print(len(pos_reviews))\n",
    "\n",
    "train_set = neg_reviews[:750] + pos_reviews[:750]\n",
    "test_set =  neg_reviews[750:] + pos_reviews[750:]\n",
    "print(len(train_set),  len(test_set))\n",
    "\n",
    "\n",
    "\n",
    "# PATH_TO_DATA = '/Users/mithramuthukrishnan/Documents/CS585/aclImdb/'\n",
    "# TRAIN_DIR = os.path.join(PATH_TO_DATA, \"train\")\n",
    "# TEST_DIR = os.path.join(PATH_TO_DATA, \"test\")\n",
    "\n",
    "# train = []\n",
    "# for x in os.listdir(TRAIN_DIR + \"/\" + 'pos'):\n",
    "#     f = open(TRAIN_DIR + \"/pos/\" + x).read()\n",
    "#     train.append((format_sentence(f),'pos'))\n",
    "# for x in os.listdir(TRAIN_DIR + \"/\" + 'neg'):\n",
    "#     f = open(TRAIN_DIR + \"/neg/\" + x).read()\n",
    "#     train.append((format_sentence(f),'neg'))\n",
    "    \n",
    "# shuffle(train)\n",
    "\n",
    "classifier = NaiveBayesClassifier.train(train_set)\n",
    "\n",
    "classifier.show_most_informative_features()\n",
    "print(\"Accuracy of movie\",accuracy(classifier, test_set))\n",
    "test = []\n",
    "with open('/Users/mithramuthukrishnan/Documents/CS585/word2mouth/sentiment_test.csv') as csv_file:\n",
    "    csv_reader = csv.reader(csv_file, delimiter = ',')\n",
    "    header = 0\n",
    "    for row in csv_reader:\n",
    "        if header > 1:\n",
    "            form_sent = format_sentence(row[0])\n",
    "            if row[1] == 'positive':\n",
    "                test.append((form_sent,'positive'))\n",
    "            elif row[1] == 'negative':\n",
    "                test.append((form_sent,'negative'))\n",
    "        header += 1\n",
    "\n",
    "print(\"Accuracy of yelp dataset\",accuracy(classifier,test))\n",
    "\n",
    "\n",
    "\n",
    "\n",
    "\n",
    "\n",
    "# vocab = set()\n",
    "# for passage in train:\n",
    "#     review = passage[0].lower()\n",
    "#     for word in word_tokenize(review):\n",
    "#         vocab.add(word)\n",
    "# #     print(word_tokenize(review))\n",
    "# vocab\n",
    "\n",
    "# dictionary = set(word.lower() for passage in train for word in word_tokenize(passage[0]))\n",
    "\n",
    "\n",
    "\n",
    "#t = [({word: (word in word_tokenize(x[0])) for word in dictionary}, x[1]) for x in train]\n",
    "\n",
    "\n",
    "        "
   ]
  }
 ],
 "metadata": {
  "kernelspec": {
   "display_name": "Python 3",
   "language": "python",
   "name": "python3"
  },
  "language_info": {
   "codemirror_mode": {
    "name": "ipython",
    "version": 3
   },
   "file_extension": ".py",
   "mimetype": "text/x-python",
   "name": "python",
   "nbconvert_exporter": "python",
   "pygments_lexer": "ipython3",
   "version": "3.6.1"
  }
 },
 "nbformat": 4,
 "nbformat_minor": 2
}
